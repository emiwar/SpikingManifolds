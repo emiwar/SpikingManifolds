{
 "cells": [
  {
   "cell_type": "code",
   "execution_count": 1,
   "metadata": {
    "collapsed": true
   },
   "outputs": [],
   "source": [
    "include(\"../forceNetworks.jl\")\n",
    "using PyPlot\n",
    "using ForceNetwork\n",
    "using PyCall\n",
    "@pyimport numpy\n",
    "@pyimport pandas"
   ]
  },
  {
   "cell_type": "code",
   "execution_count": 2,
   "metadata": {
    "collapsed": true
   },
   "outputs": [],
   "source": [
    "N = 1000\n",
    "K = 2;"
   ]
  },
  {
   "cell_type": "code",
   "execution_count": 3,
   "metadata": {
    "scrolled": true
   },
   "outputs": [
    {
     "data": {
      "text/plain": [
       "5.0e-5:5.0e-5:50.0"
      ]
     },
     "execution_count": 3,
     "metadata": {},
     "output_type": "execute_result"
    }
   ],
   "source": [
    "dt = 5e-5\n",
    "duration = 50\n",
    "T = Int(duration / dt)\n",
    "trange = dt:dt:duration"
   ]
  },
  {
   "cell_type": "code",
   "execution_count": null,
   "metadata": {},
   "outputs": [],
   "source": [
    "filename = \"../generatedData/oscillations.h5\""
   ]
  },
  {
   "cell_type": "code",
   "execution_count": 4,
   "metadata": {},
   "outputs": [
    {
     "name": "stdout",
     "output_type": "stream",
     "text": [
      "1\n"
     ]
    },
    {
     "name": "stderr",
     "output_type": "stream",
     "text": [
      "\u001b[32mSimulating...100%|██████████████████████████████████████| Time: 0:16:41\u001b[39m\n",
      "\u001b[32mSimulating...100%|██████████████████████████████████████| Time: 0:15:53\u001b[39m\n",
      "\u001b[32mSimulating...100%|██████████████████████████████████████|  ETA: 0:00:00\u001b[39m"
     ]
    },
    {
     "name": "stdout",
     "output_type": "stream",
     "text": [
      "2\n"
     ]
    },
    {
     "name": "stderr",
     "output_type": "stream",
     "text": [
      "\u001b[32mSimulating...100%|██████████████████████████████████████| Time: 0:14:46\u001b[39m\n",
      "\u001b[32mSimulating...100%|██████████████████████████████████████| Time: 0:13:58\u001b[39m\n",
      "/home/emil/anaconda2/lib/python2.7/site-packages/tables/path.py:112: NaturalNameWarning: object name is not a valid Python identifier: '2'; it does not match the pattern ``^[a-zA-Z_][a-zA-Z0-9_]*$``; you will not be able to use natural naming to access this object; using ``getattr()`` will still work, though\n",
      "  NaturalNameWarning)\n",
      "\u001b[32mSimulating...100%|██████████████████████████████████████| Time: 0:14:27\u001b[39m\n",
      "\u001b[32mSimulating...100%|██████████████████████████████████████|  ETA: 0:00:01\u001b[39m"
     ]
    },
    {
     "name": "stdout",
     "output_type": "stream",
     "text": [
      "3\n"
     ]
    },
    {
     "name": "stderr",
     "output_type": "stream",
     "text": [
      "\u001b[32mSimulating...100%|██████████████████████████████████████| Time: 0:13:60\u001b[39m\n",
      "\u001b[32mSimulating...100%|██████████████████████████████████████| Time: 0:13:56\u001b[39m\n",
      "/home/emil/anaconda2/lib/python2.7/site-packages/tables/path.py:112: NaturalNameWarning: object name is not a valid Python identifier: '3'; it does not match the pattern ``^[a-zA-Z_][a-zA-Z0-9_]*$``; you will not be able to use natural naming to access this object; using ``getattr()`` will still work, though\n",
      "  NaturalNameWarning)\n",
      "\u001b[32mSimulating...100%|██████████████████████████████████████| Time: 0:14:19\u001b[39m\n",
      "\u001b[32mSimulating...100%|██████████████████████████████████████|  ETA: 0:00:00\u001b[39m"
     ]
    },
    {
     "name": "stdout",
     "output_type": "stream",
     "text": [
      "4\n"
     ]
    },
    {
     "name": "stderr",
     "output_type": "stream",
     "text": [
      "\u001b[32mSimulating...100%|██████████████████████████████████████| Time: 0:14:01\u001b[39m\n",
      "\u001b[32mSimulating...100%|██████████████████████████████████████| Time: 0:13:59\u001b[39m\n",
      "/home/emil/anaconda2/lib/python2.7/site-packages/tables/path.py:112: NaturalNameWarning: object name is not a valid Python identifier: '4'; it does not match the pattern ``^[a-zA-Z_][a-zA-Z0-9_]*$``; you will not be able to use natural naming to access this object; using ``getattr()`` will still work, though\n",
      "  NaturalNameWarning)\n",
      "\u001b[32mSimulating...100%|██████████████████████████████████████| Time: 0:15:14\u001b[39m\n",
      "\u001b[32mSimulating...100%|██████████████████████████████████████|  ETA: 0:00:01\u001b[39m"
     ]
    },
    {
     "name": "stdout",
     "output_type": "stream",
     "text": [
      "5\n"
     ]
    },
    {
     "name": "stderr",
     "output_type": "stream",
     "text": [
      "\u001b[32mSimulating...100%|██████████████████████████████████████| Time: 0:14:02\u001b[39m\n",
      "\u001b[32mSimulating...100%|██████████████████████████████████████| Time: 0:14:01\u001b[39m\n",
      "/home/emil/anaconda2/lib/python2.7/site-packages/tables/path.py:112: NaturalNameWarning: object name is not a valid Python identifier: '5'; it does not match the pattern ``^[a-zA-Z_][a-zA-Z0-9_]*$``; you will not be able to use natural naming to access this object; using ``getattr()`` will still work, though\n",
      "  NaturalNameWarning)\n",
      "\u001b[32mSimulating...100%|██████████████████████████████████████| Time: 0:14:20\u001b[39m\n",
      "\u001b[32mSimulating...100%|██████████████████████████████████████|  ETA: 0:00:01\u001b[39m"
     ]
    },
    {
     "name": "stdout",
     "output_type": "stream",
     "text": [
      "6\n"
     ]
    },
    {
     "name": "stderr",
     "output_type": "stream",
     "text": [
      "\u001b[32mSimulating...100%|██████████████████████████████████████| Time: 0:14:02\u001b[39m\n",
      "\u001b[32mSimulating...100%|██████████████████████████████████████| Time: 0:13:56\u001b[39m\n",
      "/home/emil/anaconda2/lib/python2.7/site-packages/tables/path.py:112: NaturalNameWarning: object name is not a valid Python identifier: '6'; it does not match the pattern ``^[a-zA-Z_][a-zA-Z0-9_]*$``; you will not be able to use natural naming to access this object; using ``getattr()`` will still work, though\n",
      "  NaturalNameWarning)\n",
      "\u001b[32mSimulating...100%|██████████████████████████████████████| Time: 0:14:14\u001b[39m\n",
      "\u001b[32mSimulating...100%|██████████████████████████████████████|  ETA: 0:00:00\u001b[39m"
     ]
    },
    {
     "name": "stdout",
     "output_type": "stream",
     "text": [
      "7\n"
     ]
    },
    {
     "name": "stderr",
     "output_type": "stream",
     "text": [
      "\u001b[32mSimulating...100%|██████████████████████████████████████| Time: 0:13:60\u001b[39m\n",
      "\u001b[32mSimulating...100%|██████████████████████████████████████| Time: 0:13:52\u001b[39m\n",
      "/home/emil/anaconda2/lib/python2.7/site-packages/tables/path.py:112: NaturalNameWarning: object name is not a valid Python identifier: '7'; it does not match the pattern ``^[a-zA-Z_][a-zA-Z0-9_]*$``; you will not be able to use natural naming to access this object; using ``getattr()`` will still work, though\n",
      "  NaturalNameWarning)\n",
      "\u001b[32mSimulating...100%|██████████████████████████████████████| Time: 0:14:12\u001b[39m\n",
      "\u001b[32mSimulating...100%|██████████████████████████████████████|  ETA: 0:00:01\u001b[39m"
     ]
    },
    {
     "name": "stdout",
     "output_type": "stream",
     "text": [
      "8\n"
     ]
    },
    {
     "name": "stderr",
     "output_type": "stream",
     "text": [
      "\u001b[32mSimulating...100%|██████████████████████████████████████| Time: 0:13:59\u001b[39m\n",
      "\u001b[32mSimulating...100%|██████████████████████████████████████| Time: 0:14:06\u001b[39m\n",
      "/home/emil/anaconda2/lib/python2.7/site-packages/tables/path.py:112: NaturalNameWarning: object name is not a valid Python identifier: '8'; it does not match the pattern ``^[a-zA-Z_][a-zA-Z0-9_]*$``; you will not be able to use natural naming to access this object; using ``getattr()`` will still work, though\n",
      "  NaturalNameWarning)\n",
      "\u001b[32mSimulating...100%|██████████████████████████████████████| Time: 0:14:27\u001b[39m\n",
      "\u001b[32mSimulating...100%|██████████████████████████████████████|  ETA: 0:00:00\u001b[39m"
     ]
    },
    {
     "name": "stdout",
     "output_type": "stream",
     "text": [
      "9\n"
     ]
    },
    {
     "name": "stderr",
     "output_type": "stream",
     "text": [
      "\u001b[32mSimulating...100%|██████████████████████████████████████| Time: 0:14:11\u001b[39m\n",
      "\u001b[32mSimulating...100%|██████████████████████████████████████| Time: 0:13:43\u001b[39m\n",
      "/home/emil/anaconda2/lib/python2.7/site-packages/tables/path.py:112: NaturalNameWarning: object name is not a valid Python identifier: '9'; it does not match the pattern ``^[a-zA-Z_][a-zA-Z0-9_]*$``; you will not be able to use natural naming to access this object; using ``getattr()`` will still work, though\n",
      "  NaturalNameWarning)\n",
      "\u001b[32mSimulating...100%|██████████████████████████████████████| Time: 0:13:58\u001b[39m\n",
      "\u001b[32mSimulating...100%|██████████████████████████████████████|  ETA: 0:00:01\u001b[39m"
     ]
    },
    {
     "name": "stdout",
     "output_type": "stream",
     "text": [
      "10\n"
     ]
    },
    {
     "name": "stderr",
     "output_type": "stream",
     "text": [
      "\u001b[32mSimulating...100%|██████████████████████████████████████| Time: 0:13:47\u001b[39m\n",
      "\u001b[32mSimulating...100%|██████████████████████████████████████| Time: 0:14:00\u001b[39m\n",
      "/home/emil/anaconda2/lib/python2.7/site-packages/tables/path.py:112: NaturalNameWarning: object name is not a valid Python identifier: '10'; it does not match the pattern ``^[a-zA-Z_][a-zA-Z0-9_]*$``; you will not be able to use natural naming to access this object; using ``getattr()`` will still work, though\n",
      "  NaturalNameWarning)\n",
      "\u001b[32mSimulating...100%|██████████████████████████████████████| Time: 0:14:18\u001b[39m\n",
      "\u001b[32mSimulating...100%|██████████████████████████████████████|  ETA: 0:00:01\u001b[39m"
     ]
    },
    {
     "name": "stdout",
     "output_type": "stream",
     "text": [
      "11\n"
     ]
    },
    {
     "name": "stderr",
     "output_type": "stream",
     "text": [
      "\u001b[32mSimulating...100%|██████████████████████████████████████| Time: 0:14:01\u001b[39m\n",
      "\u001b[32mSimulating...100%|██████████████████████████████████████| Time: 0:13:59\u001b[39m\n",
      "/home/emil/anaconda2/lib/python2.7/site-packages/tables/path.py:112: NaturalNameWarning: object name is not a valid Python identifier: '11'; it does not match the pattern ``^[a-zA-Z_][a-zA-Z0-9_]*$``; you will not be able to use natural naming to access this object; using ``getattr()`` will still work, though\n",
      "  NaturalNameWarning)\n",
      "\u001b[32mSimulating...100%|██████████████████████████████████████| Time: 0:14:11\u001b[39m\n",
      "\u001b[32mSimulating...100%|██████████████████████████████████████|  ETA: 0:00:01\u001b[39m"
     ]
    },
    {
     "name": "stdout",
     "output_type": "stream",
     "text": [
      "12\n"
     ]
    },
    {
     "name": "stderr",
     "output_type": "stream",
     "text": [
      "\u001b[32mSimulating...100%|██████████████████████████████████████| Time: 0:13:51\u001b[39m\n",
      "\u001b[32mSimulating...100%|██████████████████████████████████████| Time: 0:13:40\u001b[39m\n",
      "/home/emil/anaconda2/lib/python2.7/site-packages/tables/path.py:112: NaturalNameWarning: object name is not a valid Python identifier: '12'; it does not match the pattern ``^[a-zA-Z_][a-zA-Z0-9_]*$``; you will not be able to use natural naming to access this object; using ``getattr()`` will still work, though\n",
      "  NaturalNameWarning)\n",
      "\u001b[32mSimulating...100%|██████████████████████████████████████| Time: 0:13:54\u001b[39m\n",
      "\u001b[32mSimulating...100%|██████████████████████████████████████|  ETA: 0:00:00\u001b[39m"
     ]
    },
    {
     "name": "stdout",
     "output_type": "stream",
     "text": [
      "13\n"
     ]
    },
    {
     "name": "stderr",
     "output_type": "stream",
     "text": [
      "\u001b[32mSimulating...100%|██████████████████████████████████████| Time: 0:13:42\u001b[39m\n",
      "\u001b[32mSimulating...100%|██████████████████████████████████████| Time: 0:13:58\u001b[39m\n",
      "/home/emil/anaconda2/lib/python2.7/site-packages/tables/path.py:112: NaturalNameWarning: object name is not a valid Python identifier: '13'; it does not match the pattern ``^[a-zA-Z_][a-zA-Z0-9_]*$``; you will not be able to use natural naming to access this object; using ``getattr()`` will still work, though\n",
      "  NaturalNameWarning)\n",
      "\u001b[32mSimulating...100%|██████████████████████████████████████| Time: 0:14:22\u001b[39m\n",
      "\u001b[32mSimulating...100%|██████████████████████████████████████|  ETA: 0:00:01\u001b[39m"
     ]
    },
    {
     "name": "stdout",
     "output_type": "stream",
     "text": [
      "14\n"
     ]
    },
    {
     "name": "stderr",
     "output_type": "stream",
     "text": [
      "\u001b[32mSimulating...100%|██████████████████████████████████████| Time: 0:14:03\u001b[39m\n",
      "\u001b[32mSimulating...100%|██████████████████████████████████████| Time: 0:14:03\u001b[39m\n",
      "/home/emil/anaconda2/lib/python2.7/site-packages/tables/path.py:112: NaturalNameWarning: object name is not a valid Python identifier: '14'; it does not match the pattern ``^[a-zA-Z_][a-zA-Z0-9_]*$``; you will not be able to use natural naming to access this object; using ``getattr()`` will still work, though\n",
      "  NaturalNameWarning)\n",
      "\u001b[32mSimulating...100%|██████████████████████████████████████| Time: 0:14:20\u001b[39m\n",
      "\u001b[32mSimulating...100%|██████████████████████████████████████|  ETA: 0:00:00\u001b[39m"
     ]
    },
    {
     "name": "stdout",
     "output_type": "stream",
     "text": [
      "15\n"
     ]
    },
    {
     "name": "stderr",
     "output_type": "stream",
     "text": [
      "\u001b[32mSimulating...100%|██████████████████████████████████████| Time: 0:14:04\u001b[39m\n",
      "\u001b[32mSimulating...100%|██████████████████████████████████████| Time: 0:13:50\u001b[39m\n",
      "/home/emil/anaconda2/lib/python2.7/site-packages/tables/path.py:112: NaturalNameWarning: object name is not a valid Python identifier: '15'; it does not match the pattern ``^[a-zA-Z_][a-zA-Z0-9_]*$``; you will not be able to use natural naming to access this object; using ``getattr()`` will still work, though\n",
      "  NaturalNameWarning)\n",
      "\u001b[32mSimulating...100%|██████████████████████████████████████| Time: 0:14:13\u001b[39m\n",
      "\u001b[32mSimulating...100%|██████████████████████████████████████|  ETA: 0:00:01\u001b[39m"
     ]
    },
    {
     "name": "stdout",
     "output_type": "stream",
     "text": [
      "16\n"
     ]
    },
    {
     "name": "stderr",
     "output_type": "stream",
     "text": [
      "\u001b[32mSimulating...100%|██████████████████████████████████████| Time: 0:13:55\u001b[39m\n",
      "\u001b[32mSimulating...100%|██████████████████████████████████████| Time: 0:13:54\u001b[39m\n",
      "/home/emil/anaconda2/lib/python2.7/site-packages/tables/path.py:112: NaturalNameWarning: object name is not a valid Python identifier: '16'; it does not match the pattern ``^[a-zA-Z_][a-zA-Z0-9_]*$``; you will not be able to use natural naming to access this object; using ``getattr()`` will still work, though\n",
      "  NaturalNameWarning)\n",
      "\u001b[32mSimulating...100%|██████████████████████████████████████| Time: 0:14:10\u001b[39m\n",
      "\u001b[32mSimulating...100%|██████████████████████████████████████|  ETA: 0:00:00\u001b[39m"
     ]
    },
    {
     "name": "stdout",
     "output_type": "stream",
     "text": [
      "17\n"
     ]
    },
    {
     "name": "stderr",
     "output_type": "stream",
     "text": [
      "\u001b[32mSimulating...100%|██████████████████████████████████████| Time: 0:14:47\u001b[39m\n",
      "\u001b[32mSimulating...100%|██████████████████████████████████████| Time: 0:14:11\u001b[39m\n",
      "/home/emil/anaconda2/lib/python2.7/site-packages/tables/path.py:112: NaturalNameWarning: object name is not a valid Python identifier: '17'; it does not match the pattern ``^[a-zA-Z_][a-zA-Z0-9_]*$``; you will not be able to use natural naming to access this object; using ``getattr()`` will still work, though\n",
      "  NaturalNameWarning)\n",
      "\u001b[32mSimulating...100%|██████████████████████████████████████| Time: 0:14:34\u001b[39m\n",
      "\u001b[32mSimulating...100%|██████████████████████████████████████|  ETA: 0:00:01\u001b[39m"
     ]
    },
    {
     "name": "stdout",
     "output_type": "stream",
     "text": [
      "18\n"
     ]
    },
    {
     "name": "stderr",
     "output_type": "stream",
     "text": [
      "\u001b[32mSimulating...100%|██████████████████████████████████████| Time: 0:14:17\u001b[39m\n",
      "\u001b[32mSimulating...100%|██████████████████████████████████████| Time: 0:13:41\u001b[39m\n",
      "/home/emil/anaconda2/lib/python2.7/site-packages/tables/path.py:112: NaturalNameWarning: object name is not a valid Python identifier: '18'; it does not match the pattern ``^[a-zA-Z_][a-zA-Z0-9_]*$``; you will not be able to use natural naming to access this object; using ``getattr()`` will still work, though\n",
      "  NaturalNameWarning)\n",
      "\u001b[32mSimulating...100%|██████████████████████████████████████| Time: 0:14:02\u001b[39m\n",
      "\u001b[32mSimulating...100%|██████████████████████████████████████|  ETA: 0:00:00\u001b[39m"
     ]
    },
    {
     "name": "stdout",
     "output_type": "stream",
     "text": [
      "19\n"
     ]
    },
    {
     "name": "stderr",
     "output_type": "stream",
     "text": [
      "\u001b[32mSimulating...100%|██████████████████████████████████████| Time: 0:13:43\u001b[39m\n",
      "\u001b[32mSimulating...100%|██████████████████████████████████████| Time: 0:14:05\u001b[39m\n",
      "/home/emil/anaconda2/lib/python2.7/site-packages/tables/path.py:112: NaturalNameWarning: object name is not a valid Python identifier: '19'; it does not match the pattern ``^[a-zA-Z_][a-zA-Z0-9_]*$``; you will not be able to use natural naming to access this object; using ``getattr()`` will still work, though\n",
      "  NaturalNameWarning)\n",
      "\u001b[32mSimulating...100%|██████████████████████████████████████| Time: 0:16:04\u001b[39m\n",
      "\u001b[32mSimulating...100%|██████████████████████████████████████|  ETA: 0:00:00\u001b[39m"
     ]
    },
    {
     "name": "stdout",
     "output_type": "stream",
     "text": [
      "20\n"
     ]
    },
    {
     "name": "stderr",
     "output_type": "stream",
     "text": [
      "\u001b[32mSimulating...100%|██████████████████████████████████████| Time: 0:14:08\u001b[39m\n",
      "\u001b[32mSimulating...100%|██████████████████████████████████████| Time: 0:14:01\u001b[39m\n",
      "/home/emil/anaconda2/lib/python2.7/site-packages/tables/path.py:112: NaturalNameWarning: object name is not a valid Python identifier: '20'; it does not match the pattern ``^[a-zA-Z_][a-zA-Z0-9_]*$``; you will not be able to use natural naming to access this object; using ``getattr()`` will still work, though\n",
      "  NaturalNameWarning)\n",
      "\u001b[32mSimulating...100%|██████████████████████████████████████| Time: 0:14:17\u001b[39m\n",
      "\u001b[32mSimulating...100%|██████████████████████████████████████|  ETA: 0:00:00\u001b[39m"
     ]
    },
    {
     "name": "stdout",
     "output_type": "stream",
     "text": [
      "21\n"
     ]
    },
    {
     "name": "stderr",
     "output_type": "stream",
     "text": [
      "\u001b[32mSimulating...100%|██████████████████████████████████████| Time: 0:13:59\u001b[39m\n",
      "\u001b[32mSimulating...100%|██████████████████████████████████████| Time: 0:14:02\u001b[39m\n",
      "/home/emil/anaconda2/lib/python2.7/site-packages/tables/path.py:112: NaturalNameWarning: object name is not a valid Python identifier: '21'; it does not match the pattern ``^[a-zA-Z_][a-zA-Z0-9_]*$``; you will not be able to use natural naming to access this object; using ``getattr()`` will still work, though\n",
      "  NaturalNameWarning)\n",
      "\u001b[32mSimulating...100%|██████████████████████████████████████| Time: 0:14:24\u001b[39m\n",
      "\u001b[32mSimulating...100%|██████████████████████████████████████|  ETA: 0:00:01\u001b[39m"
     ]
    },
    {
     "name": "stdout",
     "output_type": "stream",
     "text": [
      "22\n"
     ]
    },
    {
     "name": "stderr",
     "output_type": "stream",
     "text": [
      "\u001b[32mSimulating...100%|██████████████████████████████████████| Time: 0:14:04\u001b[39m\n",
      "\u001b[32mSimulating...100%|██████████████████████████████████████| Time: 0:13:53\u001b[39m\n",
      "/home/emil/anaconda2/lib/python2.7/site-packages/tables/path.py:112: NaturalNameWarning: object name is not a valid Python identifier: '22'; it does not match the pattern ``^[a-zA-Z_][a-zA-Z0-9_]*$``; you will not be able to use natural naming to access this object; using ``getattr()`` will still work, though\n",
      "  NaturalNameWarning)\n",
      "\u001b[32mSimulating...100%|██████████████████████████████████████| Time: 0:14:16\u001b[39m\n",
      "\u001b[32mSimulating...100%|██████████████████████████████████████|  ETA: 0:00:00\u001b[39m"
     ]
    },
    {
     "name": "stdout",
     "output_type": "stream",
     "text": [
      "23\n"
     ]
    },
    {
     "name": "stderr",
     "output_type": "stream",
     "text": [
      "\u001b[32mSimulating...100%|██████████████████████████████████████| Time: 0:13:60\u001b[39m\n",
      "\u001b[32mSimulating...100%|██████████████████████████████████████| Time: 0:13:52\u001b[39m\n",
      "/home/emil/anaconda2/lib/python2.7/site-packages/tables/path.py:112: NaturalNameWarning: object name is not a valid Python identifier: '23'; it does not match the pattern ``^[a-zA-Z_][a-zA-Z0-9_]*$``; you will not be able to use natural naming to access this object; using ``getattr()`` will still work, though\n",
      "  NaturalNameWarning)\n",
      "\u001b[32mSimulating...100%|██████████████████████████████████████| Time: 0:14:09\u001b[39m\n",
      "\u001b[32mSimulating...100%|██████████████████████████████████████|  ETA: 0:00:01\u001b[39m"
     ]
    },
    {
     "name": "stdout",
     "output_type": "stream",
     "text": [
      "24\n"
     ]
    },
    {
     "name": "stderr",
     "output_type": "stream",
     "text": [
      "\u001b[32mSimulating...100%|██████████████████████████████████████| Time: 0:13:52\u001b[39m\n",
      "\u001b[32mSimulating...100%|██████████████████████████████████████| Time: 0:14:10\u001b[39m\n",
      "/home/emil/anaconda2/lib/python2.7/site-packages/tables/path.py:112: NaturalNameWarning: object name is not a valid Python identifier: '24'; it does not match the pattern ``^[a-zA-Z_][a-zA-Z0-9_]*$``; you will not be able to use natural naming to access this object; using ``getattr()`` will still work, though\n",
      "  NaturalNameWarning)\n",
      "\u001b[32mSimulating...100%|██████████████████████████████████████| Time: 0:14:27\u001b[39m\n",
      "\u001b[32mSimulating...100%|██████████████████████████████████████|  ETA: 0:00:01\u001b[39m"
     ]
    },
    {
     "name": "stdout",
     "output_type": "stream",
     "text": [
      "25\n"
     ]
    },
    {
     "name": "stderr",
     "output_type": "stream",
     "text": [
      "\u001b[32mSimulating...100%|██████████████████████████████████████| Time: 0:14:09\u001b[39m\n",
      "\u001b[32mSimulating...100%|██████████████████████████████████████| Time: 0:13:59\u001b[39m\n",
      "/home/emil/anaconda2/lib/python2.7/site-packages/tables/path.py:112: NaturalNameWarning: object name is not a valid Python identifier: '25'; it does not match the pattern ``^[a-zA-Z_][a-zA-Z0-9_]*$``; you will not be able to use natural naming to access this object; using ``getattr()`` will still work, though\n",
      "  NaturalNameWarning)\n",
      "\u001b[32mSimulating...100%|██████████████████████████████████████| Time: 0:14:21\u001b[39m\n",
      "\u001b[32mSimulating...100%|██████████████████████████████████████| Time: 0:13:59\u001b[39m\n"
     ]
    }
   ],
   "source": [
    "for f=1:25\n",
    "    println(f)\n",
    "    ω = 2π*f\n",
    "    signal = [sin.(ω*trange)'; cos.(ω*trange)']\n",
    "    net = Network(NetworkParameters(), NetworkMatrices(N, K, α=.1*dt, G=10.0), NetworkState(N, K))\n",
    "    states = run!(net, signal, [i%10==0 for i=1:Int(T)], zeros(2,T), 1.0, false)\n",
    "    #x = latentVariables(states);\n",
    "    pandas.DataFrame(net.matrices.η, columns=[\"K1\", \"K2\"])[:to_hdf](filename, \"/force/$f/original/K\")\n",
    "    pandas.DataFrame(net.matrices.Φ', columns=[\"phi1\", \"phi2\"])[:to_hdf](filename, \"/force/$f/original/phi\")\n",
    "    #pandas.DataFrame(x, columns=[\"x1\", \"x2\"])[:to_hdf](\"data/oscillations.hdf\", \"/forceLong/$f/x\")\n",
    "    \n",
    "    permColMat = NetworkMatrices(net.matrices.Ω, .1*dt*eye(N), net.matrices.η[:, [2,1]], zeros(K, N))\n",
    "    permColnet = Network(NetworkParameters(), permColMat, NetworkState(N, K));\n",
    "    states = run!(permColnet, signal, [i%10==0 for i=1:Int(T)], zeros(2,T), 1.0, false)\n",
    "    #x = latentVariables(states);\n",
    "    pandas.DataFrame(permColnet.matrices.η, columns=[\"K1\", \"K2\"])[:to_hdf](filename, \"/force/$f/insideManifold/K\")\n",
    "    pandas.DataFrame(permColnet.matrices.Φ', columns=[\"phi1\", \"phi2\"])[:to_hdf](filename, \"/force/$f/insideManifold/phi\")\n",
    "    #pandas.DataFrame(x, columns=[\"x1\", \"x2\"])[:to_hdf](\"data/oscillations.hdf\", \"/forceLong/$f/xCols\")\n",
    "    \n",
    "    rowInd = [collect(501:1000); collect(1:500)];\n",
    "    permRowMat = NetworkMatrices(net.matrices.Ω, .1*dt*eye(N), net.matrices.η[rowInd, :], zeros(K, N))\n",
    "    permRownet = Network(NetworkParameters(), permRowMat, NetworkState(N, K));\n",
    "    states = run!(permRownet, signal, [i%10==0 for i=1:Int(T)], zeros(2,T), 1.0, false)\n",
    "    #x = latentVariables(states);\n",
    "    pandas.DataFrame(permRownet.matrices.η, columns=[\"K1\", \"K2\"])[:to_hdf](filename, \"/force/$f/outsideManifold/K\")\n",
    "    pandas.DataFrame(permRownet.matrices.Φ', columns=[\"phi1\", \"phi2\"])[:to_hdf](filename, \"/force/$f/outsideManifold/phi\")\n",
    "    #pandas.DataFrame(x, columns=[\"x1\", \"x2\"])[:to_hdf](\"data/oscillations.hdf\", \"/forceLong/$f/xRows\")\n",
    "end"
   ]
  },
  {
   "cell_type": "code",
   "execution_count": null,
   "metadata": {
    "collapsed": true
   },
   "outputs": [],
   "source": []
  }
 ],
 "metadata": {
  "kernelspec": {
   "display_name": "Julia 0.6.1",
   "language": "julia",
   "name": "julia-0.6"
  },
  "language_info": {
   "file_extension": ".jl",
   "mimetype": "application/julia",
   "name": "julia",
   "version": "0.6.1"
  }
 },
 "nbformat": 4,
 "nbformat_minor": 2
}
