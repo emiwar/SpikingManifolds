{
 "cells": [
  {
   "cell_type": "markdown",
   "metadata": {},
   "source": [
    "# Different perturbations of FORCE networks\n",
    "This notebook trains 30 instances of FORCE networks for each perturbation type in figure 3. Our implementation of the FORCE algorithm is perhaps not the fastest, and this can take a while to run."
   ]
  },
  {
   "cell_type": "code",
   "execution_count": null,
   "metadata": {},
   "outputs": [],
   "source": [
    "include(\"../forceNetworks.jl\")\n",
    "using PyCall\n",
    "using ProgressMeter\n",
    "@pyimport numpy\n",
    "@pyimport pandas\n",
    "using PyPlot"
   ]
  },
  {
   "cell_type": "code",
   "execution_count": null,
   "metadata": {},
   "outputs": [],
   "source": [
    "function trainAndRun!(network, input)\n",
    "    T = size(input, 2)\n",
    "    #states = Vector{ForceNetwork.NetworkState}()\n",
    "    @ProgressMeter.showprogress 1 \"Simulating...\" for t=1:T\n",
    "        target = t % 10 == 0 && t < .9T ? input[:,t] : nothing# && t % 2000 > 400 \n",
    "        if t % 10000 < 3000\n",
    "            ForceNetwork.step!(network, target, input[:,t], 0.0)\n",
    "        else\n",
    "            recFrac = max(1-t/(.8T), 0.0)\n",
    "            ForceNetwork.step!(network, target, input[:,t], recFrac)\n",
    "        end\n",
    "        #push!(states, deepcopy(network.state))\n",
    "    end\n",
    "    #return states\n",
    "end"
   ]
  },
  {
   "cell_type": "code",
   "execution_count": null,
   "metadata": {
    "scrolled": true
   },
   "outputs": [],
   "source": [
    "function testForceCorr(Q, i, pertDescr)\n",
    "    N = 1000\n",
    "    D = 2\n",
    "    signal = [0.2 0.6 0.0 -0.7 -0.2; 0.0 -0.3 0.2 0.0 0.5]\n",
    "    dt = 5e-5\n",
    "    input = repeat(signal, inner=(1,Int(5e-1/dt)), outer=(1,20))\n",
    "    net = ForceNetwork.Network(ForceNetwork.NetworkParameters(), ForceNetwork.NetworkMatrices(N, D, α=.1*dt, G=10.0), ForceNetwork.NetworkState(N, D))\n",
    "    trainAndRun!(net, input)\n",
    "    key = @sprintf \"/force/%s/%d/original\" pertDescr i;\n",
    "    pandas.DataFrame(net.matrices.η, columns=[\"K\", \"K\"])[:to_hdf](\"../generatedData/fig3.h5\", key*\"/K\")\n",
    "    pandas.DataFrame(net.matrices.Φ', columns=[\"phi1\", \"phi2\"])[:to_hdf](\"../generatedData/fig3.h5\", key*\"/phi\")\n",
    "    \n",
    "    qMat = ForceNetwork.NetworkMatrices(net.matrices.Ω, .1*dt*eye(N), net.matrices.η*Q, zeros(D, N))\n",
    "    qNet = ForceNetwork.Network(ForceNetwork.NetworkParameters(), qMat, ForceNetwork.NetworkState(N, D))\n",
    "    trainAndRun!(qNet, input)\n",
    "    key = @sprintf \"/force/%s/%d/perturbed\" pertDescr i;\n",
    "    pandas.DataFrame(qNet.matrices.η, columns=[\"K\", \"K\"])[:to_hdf](\"../generatedData/fig3.h5\", key*\"/K\")\n",
    "    pandas.DataFrame(qNet.matrices.Φ', columns=[\"phi1\", \"phi2\"])[:to_hdf](\"../generatedData/fig3.h5\", key*\"/phi\")\n",
    "end"
   ]
  },
  {
   "cell_type": "code",
   "execution_count": null,
   "metadata": {
    "scrolled": true
   },
   "outputs": [],
   "source": [
    "@showprogress \"identity\" for i=1:30\n",
    "    Q = eye(2)\n",
    "    testForceCorr(Q, i, \"identity\")\n",
    "end\n",
    "@showprogress \"permutation\" for i=1:30\n",
    "     Q = [0 1;1 0]\n",
    "    testForceCorr(Q, i, \"permutation\")\n",
    "end\n",
    "@showprogress \"normal\" for i=1:30\n",
    "    Q = randn(2,2)\n",
    "    testForceCorr(Q, i, \"normal\")\n",
    "end\n",
    "@showprogress \"constant\" for i=1:30\n",
    "    q = randn()\n",
    "    Q = [q q;q q]\n",
    "    testForceCorr(Q, i, \"constant\")\n",
    "end\n",
    "deg = pi/4\n",
    "Q = [cos(deg) -sin(deg); cos(deg) sin(deg)]\n",
    "@showprogress \"rotation45\" for i=1:30\n",
    "    testForceCorr(Q, i, \"rotation45\")\n",
    "end"
   ]
  },
  {
   "cell_type": "code",
   "execution_count": null,
   "metadata": {},
   "outputs": [],
   "source": [
    "function trainAndTestCorrOuter(rowPerm, i, pertDescr=\"outer\")\n",
    "    N = 1000\n",
    "    K = 2\n",
    "    signal = [0.2 0.6 0.0 -0.7 -0.2; 0.0 -0.3 0.2 0.0 0.5]\n",
    "    dt = 5e-5\n",
    "    input = repeat(signal, inner=(1,Int(5e-1/dt)), outer=(1,20))\n",
    "    net = ForceNetwork.Network(ForceNetwork.NetworkParameters(), ForceNetwork.NetworkMatrices(N, D, α=.1*dt, G=10.0), ForceNetwork.NetworkState(N, D))\n",
    "    runFix!(net, input)\n",
    "    key = @sprintf \"/force/%s/%d/original\" pertDescr i;\n",
    "    pandas.DataFrame(net.matrices.η, columns=[\"K1\", \"K2\"])[:to_hdf](\"../generatedData/fig3.h5\", key*\"/K\")\n",
    "    pandas.DataFrame(net.matrices.Φ', columns=[\"phi1\", \"phi2\"])[:to_hdf](\"../generatedData/fig3.h5\", key*\"/phi\")\n",
    "    qMat = ForceNetwork.NetworkMatrices(net.matrices.Ω, .1*dt*eye(N), net.matrices.η[rowPerm, :], zeros(D, N))\n",
    "    qNet = ForceNetwork.Network(ForceNetwork.NetworkParameters(), qMat, ForceNetwork.NetworkState(N, D))\n",
    "    runFix!(qNet, input)\n",
    "    key = @sprintf \"/force/%s/%d/perturbed\" pertDescr i;\n",
    "    pandas.DataFrame(qNet.matrices.η, columns=[\"K1\", \"K2\"])[:to_hdf](\"../generatedData/fig3.h5\", key*\"/K\")\n",
    "    pandas.DataFrame(qNet.matrices.Φ', columns=[\"phi1\", \"phi2\"])[:to_hdf](\"../generatedData/fig3.h5\", key*\"/phi\")\n",
    "end"
   ]
  },
  {
   "cell_type": "code",
   "execution_count": null,
   "metadata": {},
   "outputs": [],
   "source": [
    "rowPerm = [collect(501:1000); collect(1:500)];\n",
    "@showprogress \"outerPermutation\" for i=25:30\n",
    "    trainAndTestCorrOuter(rowPerm, i, \"outerPermutation\")\n",
    "end\n",
    "#@showprogress \"outerIdentity\" for i=1:30\n",
    "#    trainAndTestCorrOuter(1:1000, i, \"outerIdentity\")\n",
    "#end"
   ]
  }
 ],
 "metadata": {
  "kernelspec": {
   "display_name": "Julia 0.6.1",
   "language": "julia",
   "name": "julia-0.6"
  },
  "language_info": {
   "file_extension": ".jl",
   "mimetype": "application/julia",
   "name": "julia",
   "version": "0.6.1"
  }
 },
 "nbformat": 4,
 "nbformat_minor": 2
}
