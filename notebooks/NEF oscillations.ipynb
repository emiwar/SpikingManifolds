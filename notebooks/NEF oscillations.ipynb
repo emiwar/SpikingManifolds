{
 "cells": [
  {
   "cell_type": "markdown",
   "metadata": {},
   "source": [
    "# Neural Engineering Framework\n",
    "\n",
    "In this notebook the NEF networks needed for Figure 4 are run. Developed for Python3."
   ]
  },
  {
   "cell_type": "code",
   "execution_count": null,
   "metadata": {},
   "outputs": [],
   "source": [
    "import nengo\n",
    "import numpy as np\n",
    "import matplotlib.pyplot as plt\n",
    "import scipy.stats\n",
    "import seaborn\n",
    "import sklearn.decomposition\n",
    "import pandas as pd\n",
    "%matplotlib inline"
   ]
  },
  {
   "cell_type": "code",
   "execution_count": null,
   "metadata": {},
   "outputs": [],
   "source": [
    "N = 1000 #Number of neurons\n",
    "D = 2    #Number of dimensions / latent variables"
   ]
  },
  {
   "cell_type": "code",
   "execution_count": null,
   "metadata": {},
   "outputs": [],
   "source": [
    "filename = \"../generatedData/oscillations.h5\""
   ]
  },
  {
   "cell_type": "code",
   "execution_count": null,
   "metadata": {},
   "outputs": [],
   "source": [
    "#For each oscillator frequency\n",
    "for f in range(1,26):\n",
    "    print f\n",
    "    \n",
    "    #Unperturbed network\n",
    "    model = nengo.Network(label=\"Oscillator\")\n",
    "    with model:\n",
    "        A = nengo.Ensemble(N, dimensions=D, max_rates=nengo.dists.Uniform(80,120))\n",
    "        tau = 0.01 #Synaptic time constant is 10 ms\n",
    "        omega = f*np.pi*2\n",
    "        mat = np.eye(2) + tau*np.array([[0, -omega],[omega, 0]])\n",
    "        recurrent_connection = nengo.Connection(A, A, transform=mat, synapse=tau)\n",
    "    sim = nengo.Simulator(model)\n",
    "    eta = sim.data[A].encoders\n",
    "    phi = sim.data[recurrent_connection].weights\n",
    "    pd.DataFrame(eta, columns=(\"K1\", \"K2\")).to_hdf(filename, \"/nef/%d/original/K\" % f)\n",
    "    pd.DataFrame(phi.T, columns=(\"phi1\", \"phi2\")).to_hdf(filename, \"/nef/%d/original/phi\" % f)\n",
    "\n",
    "    #Inside-manifold perturbation (permute columns of encoder matrix)\n",
    "    etaCols = eta[:,(1,0)]\n",
    "    model = nengo.Network(label=\"Oscillator\")\n",
    "    with model:\n",
    "        A = nengo.Ensemble(N, dimensions=D, encoders=etaCols, max_rates=nengo.dists.Uniform(80,120))\n",
    "        tau = 0.01 #Synaptic time constant is 10 ms\n",
    "        omega = f*np.pi*2\n",
    "        mat = np.eye(2) + tau*np.array([[0, -omega],[omega, 0]])\n",
    "        recurrent_connection = nengo.Connection(A, A, transform=mat, synapse=tau)\n",
    "    sim = nengo.Simulator(model)\n",
    "    phiCols = sim.data[recurrent_connection].weights\n",
    "    pd.DataFrame(etaCols, columns=(\"K1\", \"K2\")).to_hdf(filename, \"/nef/%d/insideManifold/K\" % f)\n",
    "    pd.DataFrame(phiCols.T, columns=(\"phi1\", \"phi2\")).to_hdf(filename, \"/nef/%d/insideManifold/phi\" % f)\n",
    "\n",
    "    #Outside-manifold perturbation (permute rows of encoder matrix)\n",
    "    permRowIndex = np.hstack((np.arange(500,1000), np.arange(500)))\n",
    "    etaRows = eta[permRowIndex,:]\n",
    "    model = nengo.Network(label=\"Oscillator\")\n",
    "    with model:\n",
    "        A = nengo.Ensemble(N, dimensions=D, encoders=etaRows, max_rates=nengo.dists.Uniform(80,120))\n",
    "        tau = 0.01 #Synaptic time constant is 10 ms\n",
    "        omega = f*np.pi*2\n",
    "        mat = np.eye(2) + tau*np.array([[0, -omega],[omega, 0]])\n",
    "        recurrent_connection = nengo.Connection(A, A, transform=mat, synapse=tau)\n",
    "    sim = nengo.Simulator(model)\n",
    "    phiRows = sim.data[recurrent_connection].weights\n",
    "    pd.DataFrame(etaRows, columns=(\"K1\", \"K2\")).to_hdf(filename, \"/nef/%d/outsideManifold/K\" % f)\n",
    "    pd.DataFrame(phiRows.T, columns=(\"phi1\", \"phi2\")).to_hdf(filename, \"/nef/%d/outsideManifold/phi\" % f)"
   ]
  },
  {
   "cell_type": "markdown",
   "metadata": {},
   "source": [
    "# Miscelleanous tests below\n",
    "\n",
    "These parts are not needed to recreate the data"
   ]
  },
  {
   "cell_type": "code",
   "execution_count": null,
   "metadata": {},
   "outputs": [],
   "source": [
    "scipy.stats.pearsonr(phiCol[(1,0),:].flat, phi.flat)"
   ]
  },
  {
   "cell_type": "code",
   "execution_count": null,
   "metadata": {},
   "outputs": [],
   "source": [
    "eta"
   ]
  },
  {
   "cell_type": "code",
   "execution_count": null,
   "metadata": {},
   "outputs": [],
   "source": [
    "model = nengo.Network(label=\"Oscillator\")\n",
    "with model:\n",
    "    A = nengo.Ensemble(N, dimensions=K, max_rates=nengo.dists.Uniform(80,120))\n",
    "    tau = 0.1 #Synaptic time constant is 10 ms\n",
    "    input = nengo.Node(nengo.processes.Piecewise({0: [0,2], 0.05: [0, 0]}))\n",
    "    input_connection = nengo.Connection(input, A, synapse=tau)\n",
    "    omega = 3*np.pi*2\n",
    "    mat = 1.1*np.eye(2) + tau*np.array([[0, -omega],[omega, 0]])\n",
    "    recurrent_connection = nengo.Connection(A, A, transform=mat, synapse=tau)\n",
    "    A_probe = nengo.Probe(A, synapse=tau)\n",
    "    spikes_probe = nengo.Probe(A.neurons)\n",
    "sim = nengo.Simulator(model)\n",
    "sim.run(5)\n",
    "eta = sim.data[A].encoders\n",
    "phi = sim.data[recurrent_connection].weights"
   ]
  },
  {
   "cell_type": "code",
   "execution_count": null,
   "metadata": {},
   "outputs": [],
   "source": [
    "plt.plot(sim.trange(), sim.data[A_probe][:,0])"
   ]
  },
  {
   "cell_type": "code",
   "execution_count": null,
   "metadata": {},
   "outputs": [],
   "source": [
    "plt.plot(sim.trange(), sim.data[A_probe][:,1])"
   ]
  },
  {
   "cell_type": "code",
   "execution_count": null,
   "metadata": {},
   "outputs": [],
   "source": [
    "sim.trange()[21]"
   ]
  },
  {
   "cell_type": "code",
   "execution_count": null,
   "metadata": {},
   "outputs": [],
   "source": [
    "25*4*25 / 60.0 / 24.0"
   ]
  }
 ],
 "metadata": {
  "kernelspec": {
   "display_name": "Python 3",
   "language": "python",
   "name": "python3"
  },
  "language_info": {
   "codemirror_mode": {
    "name": "ipython",
    "version": 3
   },
   "file_extension": ".py",
   "mimetype": "text/x-python",
   "name": "python",
   "nbconvert_exporter": "python",
   "pygments_lexer": "ipython3",
   "version": "3.6.7"
  }
 },
 "nbformat": 4,
 "nbformat_minor": 2
}
