{
 "cells": [
  {
   "cell_type": "markdown",
   "metadata": {},
   "source": [
    "# Figure 4\n",
    "The code for plotting figure 4. The data is generated in `FORCE oscillations.ipynb` and `NEF oscillations.ipynb`."
   ]
  },
  {
   "cell_type": "code",
   "execution_count": null,
   "metadata": {},
   "outputs": [],
   "source": [
    "import numpy as np\n",
    "import matplotlib.pyplot as plt\n",
    "import scipy.stats\n",
    "import seaborn\n",
    "import pandas as pd\n",
    "%matplotlib inline"
   ]
  },
  {
   "cell_type": "code",
   "execution_count": null,
   "metadata": {},
   "outputs": [],
   "source": [
    "filename = \"../generatedData/oscillations.h5\""
   ]
  },
  {
   "cell_type": "code",
   "execution_count": null,
   "metadata": {},
   "outputs": [],
   "source": [
    "def calcCorrelations(framework):\n",
    "    if framework==\"efficient\":\n",
    "        return calcCorrelationsEfficientCoding()\n",
    "    res = []\n",
    "    for f in range(1,26):\n",
    "        originalEta = pd.read_hdf(filename, \"/%s/%d/original/K\" % (framework, f)).values\n",
    "        originalPhi = pd.read_hdf(filename, \"/%s/%d/original/phi\" % (framework, f)).values\n",
    "\n",
    "        columnsEta = pd.read_hdf(filename, \"/%s/%d/insideManifold/K\" % (framework, f)).values\n",
    "        columnsPhi = pd.read_hdf(filename, \"/%s/%d/insideManifold/phi\" % (framework, f)).values\n",
    "\n",
    "        rowsEta = pd.read_hdf(filename, \"/%s/%d/outsideManifold/K\" % (framework, f)).values\n",
    "        rowsPhi = pd.read_hdf(filename, \"/%s/%d/outsideManifold/phi\" % (framework, f)).values\n",
    "\n",
    "        etaPhiCorr = scipy.stats.pearsonr(originalEta.flat, originalPhi.flat)[0]\n",
    "\n",
    "        origW = np.dot(originalEta, originalPhi.T)\n",
    "        colsW = np.dot(columnsEta, columnsPhi.T)\n",
    "        rowsW = np.dot(rowsEta, rowsPhi.T)\n",
    "\n",
    "        colsWcorr = scipy.stats.pearsonr(origW.flat, colsW.flat)[0]\n",
    "        rowsWcorr = scipy.stats.pearsonr(origW.flat, rowsW.flat)[0]\n",
    "        res.append((f, etaPhiCorr, colsWcorr, rowsWcorr))\n",
    "    return pd.DataFrame(res, columns=[\"frequency\", \"etaVsPhiT\", \"wPermCols\", \"wPermRows\"])"
   ]
  },
  {
   "cell_type": "code",
   "execution_count": null,
   "metadata": {},
   "outputs": [],
   "source": [
    "def calcCorrelationsEfficientCoding():\n",
    "    res = []\n",
    "    for f in range(1,26):\n",
    "        #Reuse encoders from figure 2:\n",
    "        originalEta = pd.read_hdf(\"../generatedData/fig2.h5\", \"/ec/original/K\").values\n",
    "        omega = 2*np.pi*f\n",
    "        A = np.array([[0, -omega],[omega, 0]])\n",
    "        originalPhi = np.dot(originalEta, 0.01*A + np.eye(2))\n",
    "        \n",
    "        columnsEta = originalEta[:,(1,0)]\n",
    "        columnsPhi = np.dot(columnsEta, 0.01*A + np.eye(2))\n",
    "\n",
    "        permRowIndex = np.hstack((np.arange(500,1000), np.arange(500)))\n",
    "        rowsEta = originalEta[permRowIndex, :]\n",
    "        rowsPhi = np.dot(rowsEta, 0.01*A + np.eye(2))\n",
    "\n",
    "        etaPhiCorr = scipy.stats.pearsonr(originalEta.flat, originalPhi.flat)[0]\n",
    "\n",
    "        origW = np.dot(originalEta, originalPhi.T)\n",
    "        colsW = np.dot(columnsEta, columnsPhi.T)\n",
    "        rowsW = np.dot(rowsEta, rowsPhi.T)\n",
    "\n",
    "        colsWcorr = scipy.stats.pearsonr(origW.flat, colsW.flat)[0]\n",
    "        rowsWcorr = scipy.stats.pearsonr(origW.flat, rowsW.flat)[0]\n",
    "        res.append((f, etaPhiCorr, colsWcorr, rowsWcorr))\n",
    "    return pd.DataFrame(res, columns=[\"frequency\", \"etaVsPhiT\", \"wPermCols\", \"wPermRows\"])"
   ]
  },
  {
   "cell_type": "code",
   "execution_count": null,
   "metadata": {},
   "outputs": [],
   "source": [
    "correlations = {k: calcCorrelations(k) for k in [\"forceLong\", \"nef\", \"efficient\"]}"
   ]
  },
  {
   "cell_type": "code",
   "execution_count": null,
   "metadata": {},
   "outputs": [],
   "source": [
    "seaborn.set_context(\"paper\")\n",
    "seaborn.set_style(\"white\")"
   ]
  },
  {
   "cell_type": "code",
   "execution_count": null,
   "metadata": {},
   "outputs": [],
   "source": [
    "fig, axs = plt.subplots(2,1,figsize=(2.5, 2.5), sharex=True)\n",
    "for c in [\"forceLong\", \"nef\", \"efficient\"]:\n",
    "    axs[0].plot(correlations[c].etaVsPhiT)\n",
    "axs[0].set_ylabel(\"Correlation\")\n",
    "axs[0].set_ylim(0,1)\n",
    "axs[0].legend([\"FORCE\", \"NEF\", \"Efficient\\ncoding\"], loc=\"upper right\", frameon=True, ncol=1, labelspacing=1)\n",
    "for i,c in enumerate([\"forceLong\", \"nef\", \"efficient\"]):\n",
    "    axs[1].plot(correlations[c].set_index(\"frequency\").wPermCols, c=seaborn.color_palette()[i])\n",
    "    axs[1].plot(correlations[c].set_index(\"frequency\").wPermRows, c=seaborn.color_palette()[i], ls=\"dotted\")\n",
    "axs[1].set_xlabel(\"Frequency [Hz]\")\n",
    "axs[1].set_ylabel(\"Correlation\")\n",
    "axs[1].set_ylim(-1,1)\n",
    "axs[1].set_xlim(1,25)\n",
    "#axs[1].legend([\"\", \"\", \"\", \"\", \"Inside\\nmanifold\", \"Outside\\nmanifold\"], frameon=True, ncol=3)\n",
    "seaborn.despine()\n",
    "plt.savefig(\"fig4_plots.svg\", dpi=300)"
   ]
  },
  {
   "cell_type": "code",
   "execution_count": null,
   "metadata": {},
   "outputs": [],
   "source": []
  }
 ],
 "metadata": {
  "kernelspec": {
   "display_name": "Python 3",
   "language": "python",
   "name": "python3"
  },
  "language_info": {
   "codemirror_mode": {
    "name": "ipython",
    "version": 3
   },
   "file_extension": ".py",
   "mimetype": "text/x-python",
   "name": "python",
   "nbconvert_exporter": "python",
   "pygments_lexer": "ipython3",
   "version": "3.6.7"
  }
 },
 "nbformat": 4,
 "nbformat_minor": 2
}
