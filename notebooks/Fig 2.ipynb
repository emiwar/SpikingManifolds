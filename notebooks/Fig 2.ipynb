{
 "cells": [
  {
   "cell_type": "markdown",
   "metadata": {},
   "source": [
    "# Figure 2\n",
    "Here, Figure 2 is created."
   ]
  },
  {
   "cell_type": "code",
   "execution_count": null,
   "metadata": {},
   "outputs": [],
   "source": [
    "import numpy as np\n",
    "import matplotlib.pyplot as plt\n",
    "import scipy.stats\n",
    "import seaborn\n",
    "import sklearn.decomposition\n",
    "import scipy.linalg\n",
    "import pandas as pd\n",
    "%matplotlib inline"
   ]
  },
  {
   "cell_type": "code",
   "execution_count": null,
   "metadata": {
    "collapsed": true
   },
   "outputs": [],
   "source": [
    "dataFilename = \"../generatedData/fig2.h5\""
   ]
  },
  {
   "cell_type": "code",
   "execution_count": null,
   "metadata": {
    "collapsed": true
   },
   "outputs": [],
   "source": [
    "seaborn.set_style(\"white\")"
   ]
  },
  {
   "cell_type": "code",
   "execution_count": null,
   "metadata": {
    "collapsed": true
   },
   "outputs": [],
   "source": [
    "signal = np.array([[0.2, 0.6, 0.0, -0.7, -0.2], [0.0, -0.3, 0.2, 0.0, 0.5]]).T"
   ]
  },
  {
   "cell_type": "code",
   "execution_count": null,
   "metadata": {
    "collapsed": true
   },
   "outputs": [],
   "source": [
    "def binSpikes(spikes):\n",
    "    assert(isinstance(spikes, pd.DataFrame))\n",
    "    spikes[\"timeBin\"] = np.floor(spikes.time / 5e-2).astype(np.int)\n",
    "    binned = spikes.groupby([\"timeBin\", \"neuron\"]).size().unstack(fill_value=0)\n",
    "    return binned.reindex_axis(np.arange(1000), 1, fill_value=0)"
   ]
  },
  {
   "cell_type": "code",
   "execution_count": null,
   "metadata": {
    "collapsed": true
   },
   "outputs": [],
   "source": [
    "def make_plot(x, spikes, K, Phi, signal, stepsPerStep=5000, fixPerStep=1000, filename=None):\n",
    "    binned = binSpikes(spikes)\n",
    "    pca = sklearn.decomposition.PCA().fit(binned.values)\n",
    "    fa = sklearn.decomposition.FactorAnalysis(n_components=2).fit(binned.values)\n",
    "    zPca = np.copy(pca.components_[:2,:]).T\n",
    "    zPca[:,1] *= -1\n",
    "    zFa = -np.copy(fa.components_).T\n",
    "    #zFa[:, 0] *= -1\n",
    "    #correlationDf = pd.DataFrame({\n",
    "    #    '$\\Phi^T$': phi.values.flatten(),\n",
    "    #    '$Z_\\mathrm{PCA}$': zPca.flatten(),\n",
    "    #    '$Z_\\mathrm{FA}$': zFa.flatten()\n",
    "    #})\n",
    "    #correlationDf = correlationDf[['$K$', '$\\Phi^T$', '$Z_\\mathrm{PCA}$', '$Z_\\mathrm{FA}$']]\n",
    "    \n",
    "    traces = x.values\n",
    "    for i in range(len(traces)):\n",
    "        if i%stepsPerStep < fixPerStep:\n",
    "            traces[i] = signal[i//stepsPerStep]\n",
    "    \n",
    "    seaborn.reset_defaults()\n",
    "    seaborn.set_context(context=\"paper\")\n",
    "    seaborn.set_style('white')\n",
    "    \n",
    "    fig, axs = plt.subplots(1,3,figsize=(6.5,1.5), gridspec_kw={'width_ratios': [0.6,0.02,0.3], 'wspace': .5},dpi=300)\n",
    "    #corrAx = fig.add_axes([0, 0.3, 1, 0.7])\n",
    "    cbarAx = fig.add_axes([0.84, 0.8, 0.1, 0.05])\n",
    "    order = (K.values, phi.values, zPca, zFa)\n",
    "    angles = np.array([[scipy.linalg.subspace_angles(a, b).mean() for a in order] for b in order])\n",
    "    labels = (\"$K$\", \"$\\Phi^T$\", \"$Z_{PCA}$\", \"$Z_{FA}$\")\n",
    "    seaborn.heatmap(np.cos(angles), vmin=0, vmax=1, annot=True, square=True, fmt=\".2f\",\n",
    "                    cmap='inferno', cbar_kws={ 'orientation': 'horizontal', 'ticks': [0,0.5,1.0]},\n",
    "                    mask=1-np.tri(4), ax=axs[2], cbar_ax=cbarAx, annot_kws={'fontsize': 8},#, 'color': 'w'},\n",
    "                    xticklabels=labels, yticklabels=labels\n",
    "                   )\n",
    "    evr = pca.explained_variance_ratio_[:50]\n",
    "    axs[1].bar(np.zeros(50)+.5, evr, 1, [0]+list(np.cumsum(evr)[:-1]), color=seaborn.color_palette(), edgecolor=\"none\")\n",
    "    axs[1].set_ylim(0,1)\n",
    "    axs[1].set_xlim(0,1)\n",
    "    axs[1].set_xticks([])\n",
    "    axs[1].set_yticks(np.linspace(0,1,5))\n",
    "    axs[1].set_yticklabels([\"%.0f%%\" % t for t in np.linspace(0,100,5)])\n",
    "    #\n",
    "    #axs[1].set_ylabel(\"Fraction of variance\")\n",
    "    seaborn.despine(left = True, bottom=True, trim=False, fig=fig)\n",
    "    \n",
    "    selectedSpikes = spikes[spikes.neuron <= 50]\n",
    "    axs[0].plot(selectedSpikes.time, (selectedSpikes.neuron/25.0 - 1.0), '.', ms=2, color='darkgray', markeredgewidth=0.0)\n",
    "    axs[0].plot(np.linspace(0,2.5,stepsPerStep*len(signal)), traces[:,0])\n",
    "    axs[0].plot(np.linspace(0,2.5,stepsPerStep*len(signal)), traces[:,1])\n",
    "    #axs[0].set_ylim(-250, 250)\n",
    "    axs[0].set_xlabel(\"Time [s]\")\n",
    "    axs[0].set_xlim(0,2.5)\n",
    "    #seaborn.despine(trim=True)\n",
    "    for i in range(5):\n",
    "        axs[0].axvspan(i*0.5,i*0.5+0.1, alpha=.1)\n",
    "    #plt.tight_layout()\n",
    "    if filename is None:\n",
    "        plt.show()\n",
    "    else:\n",
    "        plt.savefig(filename, dpi=300, bbox_inches=\"tight\")"
   ]
  },
  {
   "cell_type": "code",
   "execution_count": null,
   "metadata": {},
   "outputs": [],
   "source": [
    "x = pd.read_hdf(dataFilename, \"/nef/original/x\")\n",
    "spikes = pd.read_hdf(dataFilename, \"/nef/original/spikes\")\n",
    "K = pd.read_hdf(dataFilename, \"/nef/original/K\")\n",
    "phi = pd.read_hdf(dataFilename, \"/nef/original/phi\")\n",
    "make_plot(x, spikes, K, phi, signal, stepsPerStep=500, fixPerStep=100, filename='nefFig2.svg')"
   ]
  },
  {
   "cell_type": "code",
   "execution_count": null,
   "metadata": {},
   "outputs": [],
   "source": [
    "x = pd.read_hdf(dataFilename, \"/force/original/x\")[950000:]\n",
    "spikes = pd.read_hdf(dataFilename, \"/force/original/spikes\")\n",
    "spikes = spikes[spikes.time>=47.5]\n",
    "spikes.neuron -= 1\n",
    "spikes.time -= 47.5\n",
    "K = pd.read_hdf(dataFilename, \"/force/original/K\")\n",
    "phi = pd.read_hdf(dataFilename, \"/force/original/phi\")\n",
    "make_plot(x, spikes, K, phi, signal, stepsPerStep=10000, fixPerStep=2000, filename='forceFig2.svg')"
   ]
  },
  {
   "cell_type": "code",
   "execution_count": null,
   "metadata": {},
   "outputs": [],
   "source": [
    "x = pd.read_hdf(dataFilename, \"/ec/original/x\") / 100.0\n",
    "spikes = pd.read_hdf(dataFilename, \"/ec/original/spikes\")\n",
    "spikes.neuron -= 1\n",
    "K = pd.read_hdf(dataFilename, \"/ec/original/K\")\n",
    "phi = pd.read_hdf(dataFilename, \"/ec/original/phi\")\n",
    "make_plot(x, spikes, K, phi, signal, filename='ecFig2.svg')"
   ]
  }
 ],
 "metadata": {
  "kernelspec": {
   "display_name": "Python 3",
   "language": "python",
   "name": "python3"
  },
  "language_info": {
   "codemirror_mode": {
    "name": "ipython",
    "version": 3
   },
   "file_extension": ".py",
   "mimetype": "text/x-python",
   "name": "python",
   "nbconvert_exporter": "python",
   "pygments_lexer": "ipython3",
   "version": "3.6.7"
  }
 },
 "nbformat": 4,
 "nbformat_minor": 2
}
