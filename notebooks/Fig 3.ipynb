{
 "cells": [
  {
   "cell_type": "markdown",
   "metadata": {},
   "source": [
    "# Figure 3\n",
    "Here, Figure 3 is created. Currently the plotting code and the simulation code is interleaved - this should be cleaned up. One expection is the FORCE simulation, which is in `FORCE non-orthogonal Q.ipynb`."
   ]
  },
  {
   "cell_type": "code",
   "execution_count": 1,
   "metadata": {
    "collapsed": true
   },
   "outputs": [],
   "source": [
    "import pandas as pd\n",
    "import numpy as np\n",
    "import matplotlib.pyplot as plt\n",
    "import seaborn as sns\n",
    "import scipy.stats\n",
    "import tqdm\n",
    "import nengo\n",
    "sns.set_context(\"paper\")\n",
    "sns.set_style(\"white\")"
   ]
  },
  {
   "cell_type": "code",
   "execution_count": 121,
   "metadata": {
    "collapsed": true
   },
   "outputs": [],
   "source": [
    "store = pd.HDFStore(\"../generatedData/fig3.h5\")"
   ]
  },
  {
   "cell_type": "code",
   "execution_count": 122,
   "metadata": {
    "collapsed": true,
    "scrolled": true
   },
   "outputs": [],
   "source": [
    "keys = store.keys()"
   ]
  },
  {
   "cell_type": "code",
   "execution_count": 123,
   "metadata": {
    "collapsed": true
   },
   "outputs": [],
   "source": [
    "df = pd.DataFrame([k.split(\"/\")[1:] for k in keys], columns=[\"network\", \"perturbation\", \"i\", \"which\", \"matrix\"])"
   ]
  },
  {
   "cell_type": "code",
   "execution_count": 124,
   "metadata": {
    "scrolled": true
   },
   "outputs": [
    {
     "name": "stderr",
     "output_type": "stream",
     "text": [
      "\n",
      "  0%|          | 0/179 [00:00<?, ?it/s]\u001b[A\n",
      "  1%|          | 2/179 [00:00<00:09, 18.70it/s]\u001b[A\n",
      "  2%|▏         | 4/179 [00:00<00:10, 16.01it/s]\u001b[A\n",
      "  3%|▎         | 6/179 [00:00<00:11, 14.51it/s]\u001b[A\n",
      "  4%|▍         | 8/179 [00:00<00:12, 13.68it/s]\u001b[A\n",
      "  6%|▌         | 10/179 [00:00<00:12, 13.26it/s]\u001b[A\n",
      "  7%|▋         | 12/179 [00:00<00:12, 12.91it/s]\u001b[A\n",
      "  8%|▊         | 14/179 [00:01<00:12, 12.75it/s]\u001b[A\n",
      "  9%|▉         | 16/179 [00:01<00:12, 12.57it/s]\u001b[A\n",
      " 10%|█         | 18/179 [00:01<00:12, 12.54it/s]\u001b[A\n",
      " 11%|█         | 20/179 [00:01<00:12, 12.58it/s]\u001b[A\n",
      " 12%|█▏        | 22/179 [00:01<00:12, 12.69it/s]\u001b[A\n",
      " 13%|█▎        | 24/179 [00:01<00:12, 12.83it/s]\u001b[A\n",
      " 15%|█▍        | 26/179 [00:02<00:12, 12.59it/s]\u001b[A\n",
      " 16%|█▌        | 28/179 [00:02<00:12, 12.56it/s]\u001b[A\n",
      " 17%|█▋        | 30/179 [00:02<00:11, 12.69it/s]\u001b[A\n",
      " 18%|█▊        | 32/179 [00:02<00:12, 11.87it/s]\u001b[A\n",
      " 19%|█▉        | 34/179 [00:02<00:12, 11.70it/s]\u001b[A\n",
      " 20%|██        | 36/179 [00:02<00:12, 11.91it/s]\u001b[A\n",
      " 21%|██        | 38/179 [00:03<00:11, 11.86it/s]\u001b[A\n",
      " 22%|██▏       | 40/179 [00:03<00:12, 11.55it/s]\u001b[A\n",
      " 23%|██▎       | 42/179 [00:03<00:11, 11.71it/s]\u001b[A\n",
      " 25%|██▍       | 44/179 [00:03<00:11, 12.16it/s]\u001b[A\n",
      " 26%|██▌       | 46/179 [00:03<00:11, 11.92it/s]\u001b[A\n",
      " 27%|██▋       | 48/179 [00:03<00:10, 12.06it/s]\u001b[A\n",
      " 28%|██▊       | 50/179 [00:04<00:10, 12.04it/s]\u001b[A\n",
      " 29%|██▉       | 52/179 [00:04<00:10, 12.50it/s]\u001b[A\n",
      " 30%|███       | 54/179 [00:04<00:10, 12.12it/s]\u001b[A\n",
      " 31%|███▏      | 56/179 [00:04<00:10, 12.07it/s]\u001b[A\n",
      " 32%|███▏      | 58/179 [00:04<00:09, 12.25it/s]\u001b[A\n",
      " 34%|███▎      | 60/179 [00:04<00:09, 12.36it/s]\u001b[A\n",
      " 35%|███▍      | 62/179 [00:05<00:09, 12.42it/s]\u001b[A\n",
      " 36%|███▌      | 64/179 [00:05<00:09, 12.47it/s]\u001b[A\n",
      " 37%|███▋      | 66/179 [00:05<00:08, 12.97it/s]\u001b[A\n",
      " 38%|███▊      | 68/179 [00:05<00:08, 13.35it/s]\u001b[A\n",
      " 39%|███▉      | 70/179 [00:05<00:08, 13.60it/s]\u001b[A\n",
      " 40%|████      | 72/179 [00:05<00:07, 13.42it/s]\u001b[A\n",
      " 41%|████▏     | 74/179 [00:05<00:08, 13.08it/s]\u001b[A\n",
      " 42%|████▏     | 76/179 [00:06<00:08, 12.08it/s]\u001b[A\n",
      " 44%|████▎     | 78/179 [00:06<00:08, 12.13it/s]\u001b[A\n",
      " 45%|████▍     | 80/179 [00:06<00:07, 12.49it/s]\u001b[A\n",
      " 46%|████▌     | 82/179 [00:06<00:07, 12.35it/s]\u001b[A\n",
      " 47%|████▋     | 84/179 [00:06<00:07, 12.69it/s]\u001b[A\n",
      " 48%|████▊     | 86/179 [00:06<00:07, 13.03it/s]\u001b[A\n",
      " 49%|████▉     | 88/179 [00:07<00:07, 12.00it/s]\u001b[A\n",
      " 50%|█████     | 90/179 [00:07<00:08, 10.86it/s]\u001b[A\n",
      " 51%|█████▏    | 92/179 [00:07<00:08, 10.14it/s]\u001b[A\n",
      " 53%|█████▎    | 94/179 [00:07<00:08,  9.80it/s]\u001b[A\n",
      " 54%|█████▎    | 96/179 [00:07<00:08, 10.11it/s]\u001b[A\n",
      " 55%|█████▍    | 98/179 [00:08<00:07, 10.27it/s]\u001b[A\n",
      " 56%|█████▌    | 100/179 [00:08<00:07, 10.24it/s]\u001b[A\n",
      " 57%|█████▋    | 102/179 [00:08<00:08,  9.38it/s]\u001b[A\n",
      " 58%|█████▊    | 103/179 [00:08<00:08,  9.41it/s]\u001b[A\n",
      " 58%|█████▊    | 104/179 [00:08<00:08,  8.35it/s]\u001b[A\n",
      " 59%|█████▊    | 105/179 [00:08<00:09,  7.94it/s]\u001b[A\n",
      " 59%|█████▉    | 106/179 [00:09<00:09,  7.91it/s]\u001b[A\n",
      " 60%|█████▉    | 107/179 [00:09<00:09,  7.88it/s]\u001b[A\n",
      " 60%|██████    | 108/179 [00:09<00:08,  8.20it/s]\u001b[A\n",
      " 61%|██████▏   | 110/179 [00:09<00:07,  9.21it/s]\u001b[A\n",
      " 62%|██████▏   | 111/179 [00:09<00:07,  9.37it/s]\u001b[A\n",
      " 63%|██████▎   | 112/179 [00:09<00:07,  8.39it/s]\u001b[A\n",
      " 63%|██████▎   | 113/179 [00:09<00:07,  8.78it/s]\u001b[A\n",
      " 64%|██████▎   | 114/179 [00:10<00:08,  7.41it/s]\u001b[A\n",
      " 65%|██████▍   | 116/179 [00:10<00:07,  8.45it/s]\u001b[A\n",
      " 65%|██████▌   | 117/179 [00:10<00:07,  8.14it/s]\u001b[A\n",
      " 66%|██████▌   | 118/179 [00:10<00:07,  7.99it/s]\u001b[A\n",
      " 67%|██████▋   | 120/179 [00:10<00:06,  8.89it/s]\u001b[A\n",
      " 68%|██████▊   | 121/179 [00:10<00:06,  8.99it/s]\u001b[A\n",
      " 68%|██████▊   | 122/179 [00:10<00:07,  7.92it/s]\u001b[A\n",
      " 69%|██████▉   | 124/179 [00:11<00:06,  8.98it/s]\u001b[A\n",
      " 70%|███████   | 126/179 [00:11<00:05,  9.91it/s]\u001b[A\n",
      " 72%|███████▏  | 128/179 [00:11<00:04, 10.27it/s]\u001b[A\n",
      " 73%|███████▎  | 130/179 [00:11<00:04,  9.85it/s]\u001b[A\n",
      " 74%|███████▎  | 132/179 [00:11<00:04,  9.53it/s]\u001b[A\n",
      " 74%|███████▍  | 133/179 [00:11<00:05,  8.59it/s]\u001b[A\n",
      " 75%|███████▌  | 135/179 [00:12<00:04,  9.47it/s]\u001b[A\n",
      " 77%|███████▋  | 137/179 [00:12<00:04,  9.16it/s]\u001b[A\n",
      " 78%|███████▊  | 139/179 [00:12<00:04,  9.88it/s]\u001b[A\n",
      " 79%|███████▉  | 141/179 [00:12<00:03,  9.88it/s]\u001b[A\n",
      " 80%|███████▉  | 143/179 [00:12<00:03,  9.84it/s]\u001b[A\n",
      " 81%|████████  | 145/179 [00:13<00:03,  9.51it/s]\u001b[A\n",
      " 82%|████████▏ | 146/179 [00:13<00:03,  9.45it/s]\u001b[A\n",
      " 82%|████████▏ | 147/179 [00:13<00:03,  8.76it/s]\u001b[A\n",
      " 83%|████████▎ | 148/179 [00:13<00:03,  9.10it/s]\u001b[A\n",
      " 83%|████████▎ | 149/179 [00:13<00:03,  9.19it/s]\u001b[A\n",
      " 84%|████████▍ | 151/179 [00:13<00:02,  9.82it/s]\u001b[A\n",
      " 85%|████████▌ | 153/179 [00:14<00:02,  9.52it/s]\u001b[A\n",
      " 86%|████████▌ | 154/179 [00:14<00:02,  9.22it/s]\u001b[A\n",
      " 87%|████████▋ | 155/179 [00:14<00:02,  8.51it/s]\u001b[A\n",
      " 87%|████████▋ | 156/179 [00:14<00:02,  8.74it/s]\u001b[A\n",
      " 88%|████████▊ | 157/179 [00:14<00:02,  8.91it/s]\u001b[A\n",
      " 88%|████████▊ | 158/179 [00:14<00:02,  8.16it/s]\u001b[A\n",
      " 89%|████████▉ | 160/179 [00:14<00:02,  8.29it/s]\u001b[A\n",
      " 90%|████████▉ | 161/179 [00:15<00:02,  7.93it/s]\u001b[A\n",
      " 91%|█████████ | 162/179 [00:15<00:02,  7.36it/s]\u001b[A\n",
      " 91%|█████████ | 163/179 [00:15<00:02,  7.54it/s]\u001b[A\n",
      " 92%|█████████▏| 165/179 [00:15<00:01,  8.67it/s]\u001b[A\n",
      " 93%|█████████▎| 167/179 [00:15<00:01,  9.76it/s]\u001b[A\n",
      " 94%|█████████▍| 169/179 [00:15<00:01,  9.79it/s]\u001b[A\n",
      " 96%|█████████▌| 171/179 [00:15<00:00, 10.29it/s]\u001b[A\n",
      " 97%|█████████▋| 173/179 [00:16<00:00, 10.77it/s]\u001b[A\n",
      " 98%|█████████▊| 175/179 [00:16<00:00, 10.96it/s]\u001b[A\n",
      " 99%|█████████▉| 177/179 [00:16<00:00, 11.59it/s]\u001b[A\n",
      "100%|██████████| 179/179 [00:16<00:00, 10.98it/s]\u001b[A\n",
      "\u001b[A\n",
      "  0%|          | 0/30 [00:00<?, ?it/s]\u001b[A\n",
      "  7%|▋         | 2/30 [00:00<00:02, 11.86it/s]\u001b[A\n",
      " 13%|█▎        | 4/30 [00:00<00:02, 11.65it/s]\u001b[A\n",
      " 17%|█▋        | 5/30 [00:00<00:02, 11.00it/s]\u001b[A\n",
      " 20%|██        | 6/30 [00:00<00:02, 10.33it/s]\u001b[A\n",
      " 27%|██▋       | 8/30 [00:00<00:02, 10.67it/s]\u001b[A\n",
      " 33%|███▎      | 10/30 [00:00<00:01, 10.72it/s]\u001b[A\n",
      " 37%|███▋      | 11/30 [00:01<00:01, 10.22it/s]\u001b[A\n",
      " 40%|████      | 12/30 [00:01<00:01,  9.98it/s]\u001b[A\n",
      " 47%|████▋     | 14/30 [00:01<00:01, 10.27it/s]\u001b[A\n",
      " 53%|█████▎    | 16/30 [00:01<00:01, 10.62it/s]\u001b[A\n",
      " 60%|██████    | 18/30 [00:01<00:01, 10.42it/s]\u001b[A\n",
      " 67%|██████▋   | 20/30 [00:01<00:00, 10.45it/s]\u001b[A\n",
      " 73%|███████▎  | 22/30 [00:02<00:00, 10.64it/s]\u001b[A\n",
      " 80%|████████  | 24/30 [00:02<00:00, 10.87it/s]\u001b[A\n",
      " 87%|████████▋ | 26/30 [00:02<00:00, 10.42it/s]\u001b[A\n",
      " 93%|█████████▎| 28/30 [00:02<00:00, 10.59it/s]\u001b[A\n",
      "100%|██████████| 30/30 [00:02<00:00, 11.39it/s]\u001b[A\n",
      "\u001b[A"
     ]
    }
   ],
   "source": [
    "similarities = []\n",
    "for g, _ in tqdm.tqdm(df.groupby([\"network\", \"perturbation\", \"i\"])):\n",
    "    origEta = pd.read_hdf(store, \"/\"+\"/\".join(g)+\"/original/K\")\n",
    "    origPhi = pd.read_hdf(store, \"/\"+\"/\".join(g)+\"/original/phi\")\n",
    "    pertEta = pd.read_hdf(store, \"/\"+\"/\".join(g)+\"/perturbed/K\")\n",
    "    pertPhi = pd.read_hdf(store, \"/\"+\"/\".join(g)+\"/perturbed/phi\")\n",
    "    origW = origEta.values.dot(origPhi.values.T)\n",
    "    pertW = pertEta.values.dot(pertPhi.values.T)\n",
    "    corr = scipy.stats.pearsonr(origW.flat, pertW.flat)[0]\n",
    "    l2 = np.sqrt(np.sum((origW - pertW)**2))\n",
    "    similarities.append(g + (corr, l2))\n",
    "    \n",
    "for i in tqdm.trange(1,31):\n",
    "    origEta = pd.read_hdf(store, \"/force/identity/%d/original/K\"%i)\n",
    "    origPhi = pd.read_hdf(store, \"/force/identity/%d/original/phi\"%i)\n",
    "    pertEta = pd.read_hdf(store, \"/force/permutation/%d/original/K\"%i)\n",
    "    pertPhi = pd.read_hdf(store, \"/force/permutation/%d/original/phi\"%i)\n",
    "    origW = origEta.values.dot(origPhi.values.T)\n",
    "    pertW = pertEta.values.dot(pertPhi.values.T)\n",
    "    corr = scipy.stats.pearsonr(origW.flat, pertW.flat)[0]\n",
    "    l2 = np.sqrt(np.sum((origW - pertW)**2))\n",
    "    similarities.append((\"force\", \"unrelated\", i) + (corr, l2))\n",
    "similarities = pd.DataFrame(similarities, columns=[\"network\", \"perturbation\", \"i\", \"correlation\", \"l2\"])"
   ]
  },
  {
   "cell_type": "code",
   "execution_count": 125,
   "metadata": {
    "collapsed": true
   },
   "outputs": [],
   "source": [
    "store.close()"
   ]
  },
  {
   "cell_type": "code",
   "execution_count": 101,
   "metadata": {
    "collapsed": true
   },
   "outputs": [],
   "source": [
    "def testEfficientCodingCorr(Q, D=2):\n",
    "    K = np.random.normal(0,0.2,(1000,D))\n",
    "    Phi = K.T\n",
    "    origW = np.dot(K,Phi)\n",
    "    pertK = np.dot(K,Q)\n",
    "    pertK -= pertK.mean()\n",
    "    pertK /= pertK.std()/0.2\n",
    "    pertW = np.dot(pertK, pertK.T)\n",
    "    corr = scipy.stats.pearsonr(origW.flat, pertW.flat)\n",
    "    return corr[0], np.sqrt(np.sum((origW - pertW)**2))"
   ]
  },
  {
   "cell_type": "code",
   "execution_count": 9,
   "metadata": {
    "collapsed": true
   },
   "outputs": [],
   "source": [
    "def phaseIn(t, x):\n",
    "    t *= 2\n",
    "    frac = np.clip(t%1.0 - 0.15, 0, 0.3) / 0.3\n",
    "    return frac*x\n",
    "\n",
    "signal = np.array([[0.2, 0.6, 0.0, -0.7, -0.2], [0.0, -0.3, 0.2, 0.0, 0.5]]).T\n",
    "def drive(t):\n",
    "    t *= 2\n",
    "    frac = np.clip(t%1.0 - 0.15, 0, 0.3) / 0.3\n",
    "    return (1-frac)*signal[np.clip(int(t%5), 0, 4)]\n",
    "\n",
    "def runNEFNetwork(encoders=None):\n",
    "    model = nengo.Network(label=\"Integrator\")\n",
    "    noiseProcess = nengo.processes.WhiteNoise(dist=nengo.dists.Gaussian(0, 7e-3), seed=1)\n",
    "    \n",
    "    N = 1000\n",
    "    K = 2\n",
    "    with model:\n",
    "        if encoders is None:\n",
    "            A = nengo.Ensemble(N, dimensions=K, max_rates=nengo.dists.Uniform(80,120))\n",
    "        else:\n",
    "            A = nengo.Ensemble(N, dimensions=K, encoders=encoders)\n",
    "        tau = 0.01 #Synaptic time constant is 10 ms\n",
    "        input = nengo.Node(drive, 0, 2)\n",
    "        input_connection = nengo.Connection(input, A, synapse=tau)\n",
    "        node = nengo.Node(phaseIn, 2, 2)\n",
    "        recurrent_connection = nengo.Connection(A, node, synapse=tau)\n",
    "        feedback_connection = nengo.Connection(node, A)\n",
    "        A_probe = nengo.Probe(A, synapse=tau)\n",
    "        spikes_probe = nengo.Probe(A.neurons)\n",
    "    sim = nengo.Simulator(model, progress_bar=False)\n",
    "    sim.run(0.1, False)\n",
    "    eta = sim.data[A].encoders\n",
    "    phi = sim.data[recurrent_connection].weights\n",
    "    return eta, phi\n",
    "\n",
    "def testNEFCodingCorr(Q):\n",
    "    origEta, origPhi = runNEFNetwork()\n",
    "    pertEta, pertPhi = runNEFNetwork(origEta.dot(Q))\n",
    "    origW = np.dot(origEta, origPhi)\n",
    "    pertW = np.dot(pertEta, pertPhi)\n",
    "    return scipy.stats.pearsonr(origW.flat, pertW.flat)[0], np.sqrt(np.sum((origW - pertW)**2))"
   ]
  },
  {
   "cell_type": "code",
   "execution_count": 10,
   "metadata": {
    "collapsed": true
   },
   "outputs": [],
   "source": [
    "def testEfficientCodingCorrOuter(D=2):\n",
    "    ind = np.concatenate((np.arange(500,1000), np.arange(0,500)))\n",
    "    K = np.random.normal(0,0.2,(1000,D))\n",
    "    Phi = K.T\n",
    "    origW = np.dot(K,Phi)\n",
    "    pertW = np.dot(K[ind,:], Phi[:,ind])\n",
    "    corr = scipy.stats.pearsonr(origW.flat, pertW.flat)\n",
    "    return corr[0], np.sqrt(np.sum((origW - pertW)**2))\n",
    "\n",
    "def testNEFCodingCorrOuter():\n",
    "    ind = np.concatenate((np.arange(500,1000), np.arange(0,500)))\n",
    "    origEta, origPhi = runNEFNetwork()\n",
    "    pertEta, pertPhi = runNEFNetwork(origEta[ind,:])\n",
    "    origW = np.dot(origEta, origPhi)\n",
    "    pertW = np.dot(pertEta, pertPhi)\n",
    "    return scipy.stats.pearsonr(origW.flat, pertW.flat)[0], np.sqrt(np.sum((origW - pertW)**2))"
   ]
  },
  {
   "cell_type": "code",
   "execution_count": 46,
   "metadata": {
    "collapsed": true
   },
   "outputs": [],
   "source": [
    "def testNEFCodingCorrUnrelated():\n",
    "    ind = np.concatenate((np.arange(500,1000), np.arange(0,500)))\n",
    "    origEta, origPhi = runNEFNetwork()\n",
    "    pertEta, pertPhi = runNEFNetwork()\n",
    "    origW = np.dot(origEta, origPhi)\n",
    "    pertW = np.dot(pertEta, pertPhi)\n",
    "    return scipy.stats.pearsonr(origW.flat, pertW.flat)[0], np.sqrt(np.sum((origW - pertW)**2))\n",
    "\n",
    "def testEfficientCodingCorrUnrelated(D=2):\n",
    "    ind = np.concatenate((np.arange(500,1000), np.arange(0,500)))\n",
    "    K = np.random.normal(0,0.2,(1000,D))\n",
    "    Phi = K.T\n",
    "    origW = np.dot(K,Phi)\n",
    "    pertK = np.random.normal(0,0.2,(1000,D))\n",
    "    pertPhi = pertK.T\n",
    "    pertW = np.dot(pertK, pertPhi)\n",
    "    corr = scipy.stats.pearsonr(origW.flat, pertW.flat)\n",
    "    return corr[0], np.sqrt(np.sum((origW - pertW)**2))"
   ]
  },
  {
   "cell_type": "code",
   "execution_count": 27,
   "metadata": {
    "collapsed": true
   },
   "outputs": [],
   "source": [
    "#def normalizeMatrix(Q):\n",
    "#    Q /= (Q**2).sum(axis=1)[:,np.newaxis]\n",
    "#    Q /= (Q**2).sum(axis=0)[np.newaxis,:]\n",
    "#    return Q"
   ]
  },
  {
   "cell_type": "code",
   "execution_count": 102,
   "metadata": {
    "scrolled": true
   },
   "outputs": [
    {
     "name": "stderr",
     "output_type": "stream",
     "text": [
      "\n",
      "  0%|          | 0/30 [00:00<?, ?it/s]\u001b[A\n",
      "  7%|▋         | 2/30 [00:00<00:01, 17.74it/s]\u001b[A\n",
      " 10%|█         | 3/30 [00:00<00:02, 13.11it/s]\u001b[A\n",
      " 13%|█▎        | 4/30 [00:00<00:02, 11.59it/s]\u001b[A\n",
      " 20%|██        | 6/30 [00:00<00:02, 11.52it/s]\u001b[A\n",
      " 27%|██▋       | 8/30 [00:00<00:01, 12.10it/s]\u001b[A\n",
      " 33%|███▎      | 10/30 [00:00<00:01, 12.29it/s]\u001b[A\n",
      " 40%|████      | 12/30 [00:00<00:01, 12.99it/s]\u001b[A\n",
      " 47%|████▋     | 14/30 [00:01<00:01, 11.29it/s]\u001b[A\n",
      " 53%|█████▎    | 16/30 [00:01<00:01,  9.61it/s]\u001b[A\n",
      " 57%|█████▋    | 17/30 [00:01<00:01,  8.76it/s]\u001b[A\n",
      " 60%|██████    | 18/30 [00:01<00:01,  8.08it/s]\u001b[A\n",
      " 63%|██████▎   | 19/30 [00:01<00:01,  7.50it/s]\u001b[A\n",
      " 67%|██████▋   | 20/30 [00:02<00:01,  6.86it/s]\u001b[A\n",
      " 70%|███████   | 21/30 [00:02<00:01,  6.71it/s]\u001b[A\n",
      " 77%|███████▋  | 23/30 [00:02<00:00,  7.76it/s]\u001b[A\n",
      " 83%|████████▎ | 25/30 [00:02<00:00,  8.55it/s]\u001b[A\n",
      " 87%|████████▋ | 26/30 [00:02<00:00,  8.24it/s]\u001b[A\n",
      " 93%|█████████▎| 28/30 [00:02<00:00,  9.64it/s]\u001b[A\n",
      "100%|██████████| 30/30 [00:02<00:00, 10.37it/s]\u001b[A\n",
      "\u001b[A\n",
      "  0%|          | 0/30 [00:00<?, ?it/s]\u001b[A\n",
      "  3%|▎         | 1/30 [00:00<00:03,  9.18it/s]\u001b[A\n",
      " 10%|█         | 3/30 [00:00<00:02, 10.00it/s]\u001b[A\n",
      " 17%|█▋        | 5/30 [00:00<00:02, 11.22it/s]\u001b[A\n",
      " 23%|██▎       | 7/30 [00:00<00:01, 11.68it/s]\u001b[A\n",
      " 30%|███       | 9/30 [00:00<00:01, 11.72it/s]\u001b[A\n",
      " 37%|███▋      | 11/30 [00:00<00:01, 11.43it/s]\u001b[A\n",
      " 43%|████▎     | 13/30 [00:01<00:01, 11.85it/s]\u001b[A\n",
      " 50%|█████     | 15/30 [00:01<00:01, 12.29it/s]\u001b[A\n",
      " 57%|█████▋    | 17/30 [00:01<00:01, 12.87it/s]\u001b[A\n",
      " 63%|██████▎   | 19/30 [00:01<00:00, 12.38it/s]\u001b[A\n",
      " 70%|███████   | 21/30 [00:01<00:00, 11.37it/s]\u001b[A\n",
      " 77%|███████▋  | 23/30 [00:02<00:00,  9.81it/s]\u001b[A\n",
      " 83%|████████▎ | 25/30 [00:02<00:00,  9.84it/s]\u001b[A\n",
      " 90%|█████████ | 27/30 [00:02<00:00,  9.39it/s]\u001b[A\n",
      " 93%|█████████▎| 28/30 [00:02<00:00,  9.12it/s]\u001b[A\n",
      " 97%|█████████▋| 29/30 [00:02<00:00,  8.66it/s]\u001b[A\n",
      "100%|██████████| 30/30 [00:02<00:00,  8.35it/s]\u001b[A\n",
      "\u001b[A\n",
      "  0%|          | 0/30 [00:00<?, ?it/s]\u001b[A\n",
      "  7%|▋         | 2/30 [00:00<00:01, 14.07it/s]\u001b[A\n",
      " 10%|█         | 3/30 [00:00<00:02, 11.50it/s]\u001b[A\n",
      " 13%|█▎        | 4/30 [00:00<00:02, 10.50it/s]\u001b[A\n",
      " 20%|██        | 6/30 [00:00<00:02, 11.28it/s]\u001b[A\n",
      " 27%|██▋       | 8/30 [00:00<00:01, 12.39it/s]\u001b[A\n",
      " 33%|███▎      | 10/30 [00:00<00:01, 12.57it/s]\u001b[A\n",
      " 40%|████      | 12/30 [00:01<00:01, 11.23it/s]\u001b[A\n",
      " 47%|████▋     | 14/30 [00:01<00:01, 11.27it/s]\u001b[A\n",
      " 53%|█████▎    | 16/30 [00:01<00:01, 11.01it/s]\u001b[A\n",
      " 60%|██████    | 18/30 [00:01<00:01, 10.58it/s]\u001b[A\n",
      " 67%|██████▋   | 20/30 [00:01<00:00, 11.66it/s]\u001b[A\n",
      " 73%|███████▎  | 22/30 [00:01<00:00, 11.63it/s]\u001b[A\n",
      " 80%|████████  | 24/30 [00:02<00:00, 12.64it/s]\u001b[A\n",
      " 87%|████████▋ | 26/30 [00:02<00:00, 13.52it/s]\u001b[A\n",
      " 93%|█████████▎| 28/30 [00:02<00:00, 14.51it/s]\u001b[A\n",
      "100%|██████████| 30/30 [00:02<00:00, 15.22it/s]\u001b[A\n",
      "\u001b[A\n",
      "  0%|          | 0/30 [00:00<?, ?it/s]\u001b[A\n",
      "  7%|▋         | 2/30 [00:00<00:01, 17.65it/s]\u001b[A\n",
      " 13%|█▎        | 4/30 [00:00<00:01, 16.94it/s]\u001b[A\n",
      " 20%|██        | 6/30 [00:00<00:01, 16.63it/s]\u001b[A\n",
      " 27%|██▋       | 8/30 [00:00<00:01, 16.42it/s]\u001b[A\n",
      " 33%|███▎      | 10/30 [00:00<00:01, 16.27it/s]\u001b[A\n",
      " 40%|████      | 12/30 [00:00<00:01, 16.46it/s]\u001b[A\n",
      " 47%|████▋     | 14/30 [00:00<00:00, 16.67it/s]\u001b[A\n",
      " 53%|█████▎    | 16/30 [00:00<00:00, 16.76it/s]\u001b[A\n",
      " 60%|██████    | 18/30 [00:01<00:00, 16.91it/s]\u001b[A\n",
      " 67%|██████▋   | 20/30 [00:01<00:00, 17.00it/s]\u001b[A\n",
      " 73%|███████▎  | 22/30 [00:01<00:00, 17.00it/s]\u001b[A\n",
      " 80%|████████  | 24/30 [00:01<00:00, 17.08it/s]\u001b[A\n",
      " 87%|████████▋ | 26/30 [00:01<00:00, 16.85it/s]\u001b[A\n",
      " 93%|█████████▎| 28/30 [00:01<00:00, 16.75it/s]\u001b[A\n",
      "100%|██████████| 30/30 [00:01<00:00, 16.46it/s]\u001b[A\n",
      "\u001b[A"
     ]
    }
   ],
   "source": [
    "nSamples = 30\n",
    "\n",
    "identityQ_ec = [testEfficientCodingCorr(np.eye(2)) for _ in tqdm.trange(nSamples)]\n",
    "permQ_ec = [testEfficientCodingCorr(np.array([[0,1],[1,0]])) for _ in tqdm.trange(nSamples)]\n",
    "normalQ_ec = [testEfficientCodingCorr(np.random.normal(0,1,(2,2))) for _ in tqdm.trange(nSamples)]\n",
    "fixedQ_ec = [testEfficientCodingCorr(np.random.normal(0,1) * np.ones((2,2))) for _ in tqdm.trange(nSamples)]"
   ]
  },
  {
   "cell_type": "code",
   "execution_count": null,
   "metadata": {
    "collapsed": true
   },
   "outputs": [],
   "source": [
    "identityQ_nef = [testNEFCodingCorr(np.eye(2)) for _ in tqdm.trange(nSamples)]\n",
    "permQ_nef = [testNEFCodingCorr(np.array([[0,1],[1,0]])) for _ in tqdm.trange(nSamples)]\n",
    "normalQ_nef = [testNEFCodingCorr(np.random.normal(0,1,(2,2))) for _ in tqdm.trange(nSamples)]\n",
    "fixedQ_nef = [testNEFCodingCorr(np.random.normal(0,1) * np.ones((2,2))) for _ in tqdm.trange(nSamples)]"
   ]
  },
  {
   "cell_type": "code",
   "execution_count": 107,
   "metadata": {
    "collapsed": true
   },
   "outputs": [
    {
     "name": "stderr",
     "output_type": "stream",
     "text": [
      "\n",
      "  0%|          | 0/30 [00:00<?, ?it/s]\u001b[A\n",
      "  7%|▋         | 2/30 [00:00<00:02, 13.05it/s]\u001b[A\n",
      " 13%|█▎        | 4/30 [00:00<00:01, 13.39it/s]\u001b[A\n",
      " 20%|██        | 6/30 [00:00<00:01, 12.81it/s]\u001b[A\n",
      " 27%|██▋       | 8/30 [00:00<00:01, 13.18it/s]\u001b[A\n",
      " 33%|███▎      | 10/30 [00:00<00:01, 13.07it/s]\u001b[A\n",
      " 40%|████      | 12/30 [00:00<00:01, 13.21it/s]\u001b[A\n",
      " 47%|████▋     | 14/30 [00:01<00:01, 12.75it/s]\u001b[A\n",
      " 53%|█████▎    | 16/30 [00:01<00:01, 12.47it/s]\u001b[A\n",
      " 60%|██████    | 18/30 [00:01<00:00, 12.73it/s]\u001b[A\n",
      " 67%|██████▋   | 20/30 [00:01<00:00, 13.17it/s]\u001b[A\n",
      " 73%|███████▎  | 22/30 [00:01<00:00, 13.11it/s]\u001b[A\n",
      " 80%|████████  | 24/30 [00:01<00:00, 12.60it/s]\u001b[A\n",
      " 87%|████████▋ | 26/30 [00:02<00:00, 12.77it/s]\u001b[A\n",
      " 93%|█████████▎| 28/30 [00:02<00:00, 13.41it/s]\u001b[A\n",
      "100%|██████████| 30/30 [00:02<00:00, 14.02it/s]\u001b[A\n",
      "\u001b[A\n",
      "  0%|          | 0/30 [00:00<?, ?it/s]\u001b[A\n",
      "  3%|▎         | 1/30 [00:01<00:39,  1.36s/it]\u001b[A\n",
      "  7%|▋         | 2/30 [00:02<00:39,  1.42s/it]\u001b[A\n",
      " 10%|█         | 3/30 [00:04<00:39,  1.48s/it]\u001b[A\n",
      " 13%|█▎        | 4/30 [00:06<00:39,  1.53s/it]\u001b[A\n",
      " 17%|█▋        | 5/30 [00:07<00:39,  1.59s/it]\u001b[A\n",
      " 20%|██        | 6/30 [00:09<00:36,  1.53s/it]\u001b[A\n",
      " 23%|██▎       | 7/30 [00:10<00:35,  1.53s/it]\u001b[A\n",
      " 27%|██▋       | 8/30 [00:12<00:35,  1.60s/it]\u001b[A\n",
      " 30%|███       | 9/30 [00:14<00:36,  1.72s/it]\u001b[A\n",
      " 33%|███▎      | 10/30 [00:16<00:34,  1.73s/it]\u001b[A\n",
      " 37%|███▋      | 11/30 [00:18<00:33,  1.76s/it]\u001b[A\n",
      " 40%|████      | 12/30 [00:19<00:32,  1.78s/it]\u001b[A\n",
      " 43%|████▎     | 13/30 [00:21<00:30,  1.81s/it]\u001b[A\n",
      " 47%|████▋     | 14/30 [00:23<00:29,  1.85s/it]\u001b[A\n",
      " 50%|█████     | 15/30 [00:25<00:27,  1.83s/it]\u001b[A\n",
      " 53%|█████▎    | 16/30 [00:27<00:25,  1.85s/it]\u001b[A\n",
      " 57%|█████▋    | 17/30 [00:29<00:24,  1.86s/it]\u001b[A\n",
      " 60%|██████    | 18/30 [00:31<00:21,  1.81s/it]\u001b[A\n",
      " 63%|██████▎   | 19/30 [00:33<00:20,  1.89s/it]\u001b[A\n",
      " 67%|██████▋   | 20/30 [00:35<00:19,  1.91s/it]\u001b[A\n",
      " 70%|███████   | 21/30 [00:37<00:17,  1.95s/it]\u001b[A\n",
      " 73%|███████▎  | 22/30 [00:38<00:15,  1.90s/it]\u001b[A\n",
      " 77%|███████▋  | 23/30 [00:40<00:13,  1.88s/it]\u001b[A\n",
      " 80%|████████  | 24/30 [00:42<00:11,  1.86s/it]\u001b[A\n",
      " 83%|████████▎ | 25/30 [00:44<00:09,  1.84s/it]\u001b[A\n",
      " 87%|████████▋ | 26/30 [00:46<00:07,  1.81s/it]\u001b[A\n",
      " 90%|█████████ | 27/30 [00:48<00:05,  1.94s/it]\u001b[A\n",
      " 93%|█████████▎| 28/30 [00:50<00:03,  1.92s/it]\u001b[A\n",
      " 97%|█████████▋| 29/30 [00:52<00:01,  1.88s/it]\u001b[A\n",
      "100%|██████████| 30/30 [00:53<00:00,  1.87s/it]\u001b[A\n",
      "\u001b[A"
     ]
    }
   ],
   "source": [
    "deg = np.pi/4\n",
    "rotQ = np.array([[np.cos(deg), -np.sin(deg)],[np.cos(deg), np.sin(deg)]])\n",
    "rot45_ec = [testEfficientCodingCorr(rotQ) for _ in tqdm.trange(nSamples)]\n",
    "rot45_nef = [testNEFCodingCorr(rotQ) for _ in tqdm.trange(nSamples)]"
   ]
  },
  {
   "cell_type": "code",
   "execution_count": 45,
   "metadata": {},
   "outputs": [
    {
     "name": "stderr",
     "output_type": "stream",
     "text": [
      "100%|██████████| 30/30 [00:01<00:00, 15.89it/s]\n",
      "100%|██████████| 30/30 [00:53<00:00,  1.86s/it]\n"
     ]
    }
   ],
   "source": [
    "outer_ec = [testEfficientCodingCorrOuter() for _ in tqdm.trange(nSamples)]\n",
    "outer_nef = [testNEFCodingCorrOuter() for _ in tqdm.trange(nSamples)]"
   ]
  },
  {
   "cell_type": "code",
   "execution_count": 47,
   "metadata": {},
   "outputs": [
    {
     "name": "stderr",
     "output_type": "stream",
     "text": [
      "100%|██████████| 30/30 [00:02<00:00, 13.77it/s]\n",
      "100%|██████████| 30/30 [00:54<00:00,  1.85s/it]\n"
     ]
    }
   ],
   "source": [
    "unrel_ec = [testEfficientCodingCorrUnrelated() for _ in tqdm.trange(nSamples)]\n",
    "unrel_nef = [testNEFCodingCorrUnrelated() for _ in tqdm.trange(nSamples)]"
   ]
  },
  {
   "cell_type": "code",
   "execution_count": 126,
   "metadata": {
    "collapsed": true
   },
   "outputs": [],
   "source": [
    "dfs = [similarities]\n",
    "\n",
    "c = [\"network\", \"perturbation\", \"i\", \"correlation\", \"l2\"]\n",
    "\n",
    "dfs.append(pd.DataFrame([(\"efficient_coding\", \"identity\",i)+t for i,t in enumerate(identityQ_ec)], columns=c))\n",
    "dfs.append(pd.DataFrame([(\"efficient_coding\", \"permutation\",i)+t for i,t in enumerate(permQ_ec)], columns=c))\n",
    "dfs.append(pd.DataFrame([(\"efficient_coding\", \"normal\",i)+t for i,t in enumerate(normalQ_ec)], columns=c))\n",
    "dfs.append(pd.DataFrame([(\"efficient_coding\", \"constant\",i)+t for i,t in enumerate(fixedQ_ec)], columns=c))\n",
    "dfs.append(pd.DataFrame([(\"efficient_coding\", \"rotation45\", i)+t for i,t in enumerate(rot45_ec)], columns=c))\n",
    "dfs.append(pd.DataFrame([(\"efficient_coding\", \"outerPermutation\", i)+t for i,t in enumerate(outer_ec)], columns=c))\n",
    "dfs.append(pd.DataFrame([(\"efficient_coding\", \"unrelated\", i)+t for i,t in enumerate(unrel_ec)], columns=c))\n",
    "\n",
    "dfs.append(pd.DataFrame([(\"nef\", \"identity\",i)+t for i,t in enumerate(identityQ_nef)], columns=c))\n",
    "dfs.append(pd.DataFrame([(\"nef\", \"permutation\",i)+t for i,t in enumerate(permQ_nef)], columns=c))\n",
    "dfs.append(pd.DataFrame([(\"nef\", \"normal\",i)+t for i,t in enumerate(normalQ_nef)], columns=c))\n",
    "dfs.append(pd.DataFrame([(\"nef\", \"constant\",i)+t for i,t in enumerate(fixedQ_nef)], columns=c))\n",
    "dfs.append(pd.DataFrame([(\"nef\", \"rotation45\", i)+t for i,t in enumerate(rot45_nef)], columns=c))\n",
    "dfs.append(pd.DataFrame([(\"nef\", \"outerPermutation\", i)+t for i,t in enumerate(outer_nef)], columns=c))\n",
    "dfs.append(pd.DataFrame([(\"nef\", \"unrelated\", i)+t for i,t in enumerate(unrel_nef)], columns=c))"
   ]
  },
  {
   "cell_type": "code",
   "execution_count": 127,
   "metadata": {
    "collapsed": true
   },
   "outputs": [],
   "source": [
    "allDfs = pd.concat(dfs)"
   ]
  },
  {
   "cell_type": "code",
   "execution_count": 20,
   "metadata": {
    "collapsed": true
   },
   "outputs": [
    {
     "data": {
      "image/png": "[encoded data removed]",
      "text/plain": [
       "<Figure size 432x72 with 1 Axes>"
      ]
     },
     "metadata": {
      "needs_background": "light"
     },
     "output_type": "display_data"
    },
    {
     "data": {
      "image/png": "[encoded data removed]",
      "text/plain": [
       "<Figure size 432x72 with 1 Axes>"
      ]
     },
     "metadata": {
      "needs_background": "light"
     },
     "output_type": "display_data"
    },
    {
     "data": {
      "image/png": "[encoded data removed]",
      "text/plain": [
       "<Figure size 864x72 with 1 Axes>"
      ]
     },
     "metadata": {
      "needs_background": "light"
     },
     "output_type": "display_data"
    }
   ],
   "source": [
    "sns.palplot(sns.color_palette(\"Greens\"))\n",
    "sns.palplot(sns.color_palette(\"Blues\"))\n",
    "sns.palplot(sns.color_palette(\"Paired\"))"
   ]
  },
  {
   "cell_type": "code",
   "execution_count": 4,
   "metadata": {
    "collapsed": true
   },
   "outputs": [],
   "source": [
    "palette = {\n",
    "    'identity': sns.color_palette(\"Blues\")[3],\n",
    "    'permutation': sns.color_palette(\"Greens\")[2],\n",
    "    'rotation45': sns.color_palette(\"Greens\")[3],\n",
    "    'normal': sns.color_palette(\"Greens\")[4],\n",
    "    'constant': sns.color_palette(\"Greens\")[5],\n",
    "    'outerPermutation' : sns.color_palette(\"Reds\")[-2],\n",
    "    'unrelated' : sns.color_palette(\"Reds\")[-1]\n",
    "}\n",
    "\n",
    "longerNames = {\n",
    "    'identity': \"No perturbation\",\n",
    "    'permutation':  \"Permutation\",\n",
    "    'rotation45': \"45 degree rotation\",\n",
    "    'normal': \"Gaussian elements\",\n",
    "    'constant': \"Same element\",\n",
    "    'outerPermutation' : \"Outer permutation\",\n",
    "    'unrelated' : \"Unrelated network\"\n",
    "}\n",
    "\n",
    "palette = {longerNames[p]:c for p,c in palette.items()}"
   ]
  },
  {
   "cell_type": "code",
   "execution_count": 159,
   "metadata": {
    "scrolled": false
   },
   "outputs": [
    {
     "data": {
      "image/png": "[encoded data removed]",
      "text/plain": [
       "<Figure size 288x198 with 1 Axes>"
      ]
     },
     "metadata": {
      "needs_background": "light"
     },
     "output_type": "display_data"
    }
   ],
   "source": [
    "plt.figure(figsize=(4,2.75))\n",
    "pertOrder = [\"identity\", \"permutation\", \"rotation45\", \"normal\", \"constant\", \"outerPermutation\", \"unrelated\"]\n",
    "sns.barplot(data=allDfs.replace(longerNames), x=\"network\", y=\"correlation\", hue=\"perturbation\", palette=palette,\n",
    "            order=[\"force\", \"nef\", \"efficient_coding\"], hue_order=[longerNames[p] for p in pertOrder], ci=\"sd\")\n",
    "sns.despine(bottom=True)\n",
    "plt.legend(loc=(1.0,0.1), title=\"Perturbation type\")\n",
    "plt.ylabel(\"Correlation between $W$ and $\\tilde{W}$\")\n",
    "plt.xlabel(\"Network type\")\n",
    "plt.gca().set_xticklabels([\"Force\",\"NEF\", \"Efficient coding\"])\n",
    "plt.savefig(\"fig3new_.svg\")"
   ]
  },
  {
   "cell_type": "code",
   "execution_count": 129,
   "metadata": {},
   "outputs": [
    {
     "data": {
      "image/png": "[encoded data removed]",
      "text/plain": [
       "<Figure size 540x216 with 3 Axes>"
      ]
     },
     "metadata": {
      "needs_background": "light"
     },
     "output_type": "display_data"
    }
   ],
   "source": [
    "plt.figure(figsize=(7.5,3))\n",
    "plt.subplot(1,3,1)\n",
    "pertOrder = [\"identity\", \"permutation\", \"rotation45\", \"normal\", \"constant\", \"outerPermutation\", \"unrelated\"]\n",
    "sns.barplot(data=allDfs.query(\"network=='force'\").replace(longerNames), x=\"network\", y=\"l2\", hue=\"perturbation\", palette=palette,\n",
    "            hue_order=[longerNames[p] for p in pertOrder], ci=\"sd\",)\n",
    "sns.despine(bottom=True)\n",
    "plt.ylabel(\"Frobenius norm $||W-\\hat{W}||$\")\n",
    "plt.gca().set_xticklabels([\"Force\"])\n",
    "plt.gca().get_legend().remove()\n",
    "plt.xlabel(\"\")\n",
    "\n",
    "plt.subplot(1,3,2)\n",
    "pertOrder = [\"identity\", \"permutation\", \"rotation45\", \"normal\", \"constant\", \"outerPermutation\", \"unrelated\"]\n",
    "sns.barplot(data=allDfs.query(\"network=='nef'\").replace(longerNames), x=\"network\", y=\"l2\", hue=\"perturbation\", palette=palette,\n",
    "            hue_order=[longerNames[p] for p in pertOrder], ci=\"sd\",)\n",
    "sns.despine(bottom=True)\n",
    "plt.ylabel(\"\")\n",
    "plt.xlabel(\"Network type\")\n",
    "plt.gca().set_xticklabels([\"NEF\"])\n",
    "plt.gca().get_legend().remove()\n",
    "\n",
    "plt.subplot(1,3,3)\n",
    "pertOrder = [\"identity\", \"permutation\", \"rotation45\", \"normal\", \"constant\", \"outerPermutation\", \"unrelated\"]\n",
    "sns.barplot(data=allDfs.query(\"network=='efficient_coding'\").replace(longerNames), x=\"network\", y=\"l2\", hue=\"perturbation\", palette=palette,\n",
    "            hue_order=[longerNames[p] for p in pertOrder], ci=\"sd\",)\n",
    "sns.despine(bottom=True)\n",
    "plt.ylabel(\"\")\n",
    "plt.gca().set_xticklabels([\"Efficient coding\"])\n",
    "#plt.ylim(0,12000)\n",
    "#plt.gca().get_legend().remove()\n",
    "plt.xlabel(\"\")\n",
    "plt.legend(loc=(1.1,0.1), title=\"Perturbation type\")\n",
    "plt.tight_layout()\n",
    "plt.savefig(\"fig3new_l2.svg\")"
   ]
  },
  {
   "cell_type": "code",
   "execution_count": 2,
   "metadata": {
    "collapsed": true
   },
   "outputs": [],
   "source": [
    "store = pd.HDFStore(\"./forceOtherQ.hdf\")\n",
    "i = 1\n",
    "origEta = pd.read_hdf(store, \"/force/permutation/%d/original/eta\"%i)\n",
    "origPhi = pd.read_hdf(store, \"/force/permutation/%d/original/phi\"%i)\n",
    "pertEta = pd.read_hdf(store, \"/force/permutation/%d/perturbed/eta\"%i)\n",
    "pertPhi = pd.read_hdf(store, \"/force/permutation/%d/perturbed/phi\"%i)\n",
    "origW_inner = origEta.values.dot(origPhi.values.T)\n",
    "pertW_inner = pertEta.values.dot(pertPhi.values.T)\n",
    "\n",
    "origEta = pd.read_hdf(store, \"/force/outerPermutation/%d/original/eta\"%i)\n",
    "origPhi = pd.read_hdf(store, \"/force/outerPermutation/%d/original/phi\"%i)\n",
    "pertEta = pd.read_hdf(store, \"/force/outerPermutation/%d/perturbed/eta\"%i)\n",
    "pertPhi = pd.read_hdf(store, \"/force/outerPermutation/%d/perturbed/phi\"%i)\n",
    "origW_outer = origEta.values.dot(origPhi.values.T)\n",
    "pertW_outer = pertEta.values.dot(pertPhi.values.T)\n",
    "store.close()"
   ]
  },
  {
   "cell_type": "code",
   "execution_count": 21,
   "metadata": {},
   "outputs": [
    {
     "data": {
      "image/png": "[encoded data removed]",
      "text/plain": [
       "<Figure size 374.4x158.4 with 2 Axes>"
      ]
     },
     "metadata": {
      "needs_background": "light"
     },
     "output_type": "display_data"
    }
   ],
   "source": [
    "fig, axs = plt.subplots(1,2,sharex=True,figsize=(5.2, 2.2))\n",
    "axs[0].plot(origW_inner.flat, pertW_inner.flat, '.', ms=1, alpha=0.1, color=palette[\"Permutation\"])\n",
    "axs[1].plot(origW_outer.flat, pertW_outer.flat, '.', ms=1, alpha=0.1, color=palette[\"Outer permutation\"])\n",
    "for ax in axs:\n",
    "    ax.set_xlabel(\"Original weight\")\n",
    "    ax.set_ylabel(\"New weight\")\n",
    "    ax.set_yticks([-0.5,0,0.5])\n",
    "    ax.axis(\"equal\")\n",
    "    #ax.set_xlim(-0.7,0.7)\n",
    "    #ax.set_ylim(-0.7,0.7)\n",
    "sns.despine(fig=fig)\n",
    "plt.subplots_adjust(wspace=0.5)\n",
    "#plt.savefig(\"fig3ab_new.svg\", dpi=300)\n",
    "plt.savefig(\"fig3ab_new.tif\", dpi=300, frameon=False)"
   ]
  }
 ],
 "metadata": {
  "kernelspec": {
   "display_name": "Python 3",
   "language": "python",
   "name": "python3"
  },
  "language_info": {
   "codemirror_mode": {
    "name": "ipython",
    "version": 3
   },
   "file_extension": ".py",
   "mimetype": "text/x-python",
   "name": "python",
   "nbconvert_exporter": "python",
   "pygments_lexer": "ipython3",
   "version": "3.6.7"
  }
 },
 "nbformat": 4,
 "nbformat_minor": 2
}
