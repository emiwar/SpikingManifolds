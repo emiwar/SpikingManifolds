{
 "cells": [
  {
   "cell_type": "markdown",
   "metadata": {},
   "source": [
    "# Neural Engineering Framework\n",
    "\n",
    "In this notebook the NEF networks needed for Figure 2 are run. Developed for Python3."
   ]
  },
  {
   "cell_type": "code",
   "execution_count": 1,
   "metadata": {
    "collapsed": true
   },
   "outputs": [],
   "source": [
    "import pandas as pd\n",
    "import numpy as np\n",
    "import nengo"
   ]
  },
  {
   "cell_type": "code",
   "execution_count": 2,
   "metadata": {
    "collapsed": true
   },
   "outputs": [],
   "source": [
    "def phaseIn(t, x):\n",
    "    t *= 2\n",
    "    frac = np.clip(t%1.0 - 0.15, 0, 0.3) / 0.3\n",
    "    return frac*x\n",
    "\n",
    "signal = np.array([[0.2, 0.6, 0.0, -0.7, -0.2], [0.0, -0.3, 0.2, 0.0, 0.5]]).T\n",
    "def drive(t):\n",
    "    t *= 2\n",
    "    frac = np.clip(t%1.0 - 0.15, 0, 0.3) / 0.3\n",
    "    return (1-frac)*signal[np.clip(int(t%5), 0, 4)]\n",
    "\n",
    "def runNEFNetwork(encoders=None):\n",
    "    model = nengo.Network(label=\"Integrator\")\n",
    "    noiseProcess = nengo.processes.WhiteNoise(dist=nengo.dists.Gaussian(0, 7e-3), seed=1)\n",
    "    \n",
    "    N = 1000\n",
    "    D = 2\n",
    "    with model:\n",
    "        if encoders is None:\n",
    "            A = nengo.Ensemble(N, dimensions=D, max_rates=nengo.dists.Uniform(80,120))\n",
    "        else:\n",
    "            A = nengo.Ensemble(N, dimensions=D, encoders=encoders)\n",
    "        tau = 0.01 #Synaptic time constant is 10 ms\n",
    "        input = nengo.Node(drive, 0, 2)\n",
    "        input_connection = nengo.Connection(input, A, synapse=tau)\n",
    "        node = nengo.Node(phaseIn, 2, 2)\n",
    "        recurrent_connection = nengo.Connection(A, node, synapse=tau)\n",
    "        feedback_connection = nengo.Connection(node, A)\n",
    "        A_probe = nengo.Probe(A, synapse=tau)\n",
    "        spikes_probe = nengo.Probe(A.neurons)\n",
    "    sim = nengo.Simulator(model, progress_bar=True)\n",
    "    sim.run(2.5, True)\n",
    "    K = sim.data[A].encoders\n",
    "    phi = sim.data[recurrent_connection].weights\n",
    "    spikes = sim.data[spikes_probe]\n",
    "    x = sim.data[A_probe]\n",
    "    return K, phi, spikes, x"
   ]
  },
  {
   "cell_type": "markdown",
   "metadata": {},
   "source": [
    "Run the unperturbed network"
   ]
  },
  {
   "cell_type": "code",
   "execution_count": 3,
   "metadata": {},
   "outputs": [
    {
     "name": "stdout",
     "output_type": "stream",
     "text": [
      "Build finished in 0:00:02.                                                                                                                                              \n",
      "Simulation finished in 0:00:03.                                                                                                                                         \n"
     ]
    }
   ],
   "source": [
    "K, phi, spikes, x = runNEFNetwork()\n",
    "spikes = np.vstack(np.nonzero(spikes)).T"
   ]
  },
  {
   "cell_type": "markdown",
   "metadata": {},
   "source": [
    "Write the unperturbed network data to a pytable-file for later analysis"
   ]
  },
  {
   "cell_type": "code",
   "execution_count": 4,
   "metadata": {
    "collapsed": true
   },
   "outputs": [],
   "source": [
    "filename = \"../generatedData/fig2.h5\""
   ]
  },
  {
   "cell_type": "code",
   "execution_count": 5,
   "metadata": {},
   "outputs": [],
   "source": [
    "pd.DataFrame(K, columns=[\"K1\", \"K2\"]).to_hdf(filename, \"/nef/original/K\")\n",
    "pd.DataFrame(phi.T, columns=[\"phi1\", \"phi2\"]).to_hdf(filename, \"/nef/original/phi\")\n",
    "pd.DataFrame(spikes, columns=[\"time\", \"neuron\"]).eval(\"time = time / 1000\").to_hdf(filename, \"/nef/original/spikes\")\n",
    "pd.DataFrame(x, columns=[\"x1\", \"x2\"]).to_hdf(filename, \"/nef/original/x\")"
   ]
  },
  {
   "cell_type": "markdown",
   "metadata": {
    "collapsed": true
   },
   "source": [
    "Run and save the perturbed network"
   ]
  },
  {
   "cell_type": "code",
   "execution_count": 6,
   "metadata": {},
   "outputs": [
    {
     "name": "stdout",
     "output_type": "stream",
     "text": [
      "Build finished in 0:00:02.                                                                                                                                              \n",
      "Simulation finished in 0:00:04.                                                                                                                                         \n"
     ]
    }
   ],
   "source": [
    "K, phi, spikes, x = runNEFNetwork(K[:,(1,0)])\n",
    "spikes = np.vstack(np.nonzero(spikes)).T"
   ]
  },
  {
   "cell_type": "code",
   "execution_count": 7,
   "metadata": {},
   "outputs": [],
   "source": [
    "pd.DataFrame(K, columns=[\"K1\", \"K2\"]).to_hdf(filename, \"/nef/perturbed/K\")\n",
    "pd.DataFrame(phi.T, columns=[\"phi1\", \"phi2\"]).to_hdf(filename, \"/nef/perturbed/phi\")\n",
    "pd.DataFrame(spikes, columns=[\"time\", \"neuron\"]).eval(\"time = time / 1000\").to_hdf(filename, \"/nef/perturbed/spikes\")\n",
    "pd.DataFrame(x, columns=[\"x1\", \"x2\"]).to_hdf(filename, \"/nef/perturbed/x\")"
   ]
  }
 ],
 "metadata": {
  "kernelspec": {
   "display_name": "Python 3",
   "language": "python",
   "name": "python3"
  },
  "language_info": {
   "codemirror_mode": {
    "name": "ipython",
    "version": 3
   },
   "file_extension": ".py",
   "mimetype": "text/x-python",
   "name": "python",
   "nbconvert_exporter": "python",
   "pygments_lexer": "ipython3",
   "version": "3.6.7"
  }
 },
 "nbformat": 4,
 "nbformat_minor": 2
}
