{
 "cells": [
  {
   "cell_type": "markdown",
   "metadata": {},
   "source": [
    "# Figure 5 a,b,c,d"
   ]
  },
  {
   "cell_type": "code",
   "execution_count": 1,
   "metadata": {},
   "outputs": [],
   "source": [
    "import numpy as np\n",
    "import matplotlib.pyplot as plt\n",
    "import matplotlib\n",
    "import scipy\n",
    "import seaborn\n",
    "import sklearn.decomposition\n",
    "%matplotlib inline\n",
    "#matplotlib.rc('text', usetex=True)"
   ]
  },
  {
   "cell_type": "code",
   "execution_count": 2,
   "metadata": {},
   "outputs": [],
   "source": [
    "seaborn.set_context(\"paper\")\n",
    "seaborn.set_style(\"whitegrid\")"
   ]
  },
  {
   "cell_type": "code",
   "execution_count": 3,
   "metadata": {},
   "outputs": [],
   "source": [
    "dataPath = '../generatedData/fig5/'"
   ]
  },
  {
   "cell_type": "code",
   "execution_count": 4,
   "metadata": {},
   "outputs": [],
   "source": [
    "ar = np.load(dataPath+'original.npz')"
   ]
  },
  {
   "cell_type": "code",
   "execution_count": 5,
   "metadata": {},
   "outputs": [],
   "source": [
    "N = 5000"
   ]
  },
  {
   "cell_type": "code",
   "execution_count": 8,
   "metadata": {},
   "outputs": [
    {
     "name": "stdout",
     "output_type": "stream",
     "text": [
      "Total connectivity: 12.4%\n",
      "Excitatory connectivity: 10.8%\n",
      "Inhibitory connectivity: 19.0%\n"
     ]
    }
   ],
   "source": [
    "total_fraction = np.sum(ar['weights']!=0)/float(N**2)\n",
    "excitation_fraction = np.sum(ar['weights']>0)/float(N**2)/0.8\n",
    "inhibition_fraction = np.sum(ar['weights']<0)/float(N**2)/0.2\n",
    "print(\"Total connectivity: %.1f%%\\nExcitatory connectivity: %.1f%%\\nInhibitory connectivity: %.1f%%\" % (total_fraction*100, excitation_fraction*100, inhibition_fraction*100))"
   ]
  },
  {
   "cell_type": "code",
   "execution_count": 10,
   "metadata": {},
   "outputs": [
    {
     "name": "stdout",
     "output_type": "stream",
     "text": [
      "0.1076375625\n",
      "0.10784025\n",
      "0.1907065\n",
      "0.189381\n"
     ]
    }
   ],
   "source": [
    "print(np.mean(ar['weights'][:4000, :4000]>0))\n",
    "print(np.mean(ar['weights'][4000:, :4000]>0))\n",
    "print(np.mean(ar['weights'][:4000, 4000:]<0))\n",
    "print(np.mean(ar['weights'][4000:, 4000:]<0))"
   ]
  },
  {
   "cell_type": "code",
   "execution_count": 11,
   "metadata": {},
   "outputs": [
    {
     "name": "stdout",
     "output_type": "stream",
     "text": [
      "0.1076781\n",
      "0.1904414\n"
     ]
    }
   ],
   "source": [
    "print(np.mean(ar['weights'][:, :4000]>0))\n",
    "print(np.mean(ar['weights'][:, 4000:]<0))"
   ]
  },
  {
   "cell_type": "code",
   "execution_count": 12,
   "metadata": {},
   "outputs": [],
   "source": [
    "e_sum, i_sum = np.sum(ar['weights'][:,:4000], axis=1), np.sum(ar['weights'][:,4000:], axis=1)"
   ]
  },
  {
   "cell_type": "code",
   "execution_count": 13,
   "metadata": {
    "scrolled": true
   },
   "outputs": [
    {
     "data": {
      "text/plain": [
       "(-7, 0)"
      ]
     },
     "execution_count": 13,
     "metadata": {},
     "output_type": "execute_result"
    },
    {
     "data": {
      "image/png": "[encoded data removed]",
      "text/plain": [
       "<Figure size 216x129.6 with 1 Axes>"
      ]
     },
     "metadata": {},
     "output_type": "display_data"
    }
   ],
   "source": [
    "#matplotlib.rc('text', usetex=True)\n",
    "excitatory = ar['weights'][ar['weights']>0].flatten()\n",
    "inhibitory = -ar['weights'][ar['weights']<0].flatten()\n",
    "plt.figure(figsize=(3.0,1.8))\n",
    "ax = plt.gca()\n",
    "colors = (seaborn.color_palette()[3], seaborn.color_palette()[0])\n",
    "ax.hist((np.log10(excitatory),np.log10(inhibitory)), bins=100, range=(-7,0), stacked=True, color=colors, width=7e-2, edgecolor=(.15,.15,.15))\n",
    "\n",
    "xx = np.linspace(-7,0,100)\n",
    "logWeights = np.log10(np.concatenate((excitatory, inhibitory)))\n",
    "loc, scale = logWeights.mean(), logWeights.std()\n",
    "\n",
    "numWeights = np.sum(np.logical_and(logWeights>-7, logWeights<0))\n",
    "#*len(logWeights)*7.0/100.0\n",
    "ax.plot(xx, scipy.stats.norm.pdf(xx, loc, scale)*numWeights*7/100.0, 'k--',)\n",
    "\n",
    "class LogMinors(matplotlib.ticker.LinearLocator):\n",
    "    def tick_values(self,vmin, vmax):\n",
    "        tickPos = []\n",
    "        for i in np.arange(vmin,vmax):\n",
    "            tickPos += [i] + list(i + np.log10(np.arange(2,10)))\n",
    "        return np.array(tickPos)\n",
    "ax.get_xaxis().set_minor_locator(LogMinors())\n",
    "ax.get_xaxis().set_minor_formatter(matplotlib.ticker.NullFormatter())\n",
    "ax.get_xaxis().set_major_locator(matplotlib.ticker.LinearLocator(numticks=8))\n",
    "ax.get_xaxis().set_major_formatter(matplotlib.ticker.StrMethodFormatter(\"$10^{{{x:.0f}}}$\"))\n",
    "ax.grid(b=True, which='minor', color='lightgray', linewidth=0.3)\n",
    "#ax.get_xaxis().set_major_locator(matplotlib.ticker.LogLocator())\n",
    "ax.set_xlabel(\"Relative synaptic weight\")\n",
    "ax.set_ylabel(\"Number of synapses\")\n",
    "ax.legend((\"Log-normal\\nfit\", \"Excitatory\", \"Inhibitory\"), frameon=True)\n",
    "#tickPos = []\n",
    "#tickLabels = []\n",
    "#for i in range(-7,1):\n",
    "#    tickPos += [i] + list(i + np.log10(np.arange(2,10)))\n",
    "#    tickLabels += [r\"$10^{%d}$\"%(i)]+8*[\"\"]\n",
    "#plt.xticks(tickPos, tickLabels)\n",
    "plt.xlim(-7, 0)\n",
    "#plt.savefig(\"fig5_parts/dist.svg\", dpi=300)"
   ]
  },
  {
   "cell_type": "code",
   "execution_count": 14,
   "metadata": {},
   "outputs": [
    {
     "data": {
      "text/plain": [
       "Text(0, 0.5, '$\\\\Sigma$ inhibitory')"
      ]
     },
     "execution_count": 14,
     "metadata": {},
     "output_type": "execute_result"
    },
    {
     "data": {
      "image/png": "[encoded data removed]",
      "text/plain": [
       "<Figure size 129.6x129.6 with 1 Axes>"
      ]
     },
     "metadata": {},
     "output_type": "display_data"
    }
   ],
   "source": [
    "plt.figure(figsize=(1.8,1.8))\n",
    "ax = plt.gca()\n",
    "ax.loglog(e_sum[4000:4800], -i_sum[4000:4800], '.', color=seaborn.color_palette()[0], ms=6)\n",
    "ax.loglog(e_sum[:4000], -i_sum[:4000], '.', color=seaborn.color_palette()[3], ms=6)\n",
    "ax.loglog(e_sum[4800:], -i_sum[4800:], '.', color=seaborn.color_palette()[0], ms=6)\n",
    "ax.axis([1e-2,1e2,1e-2,1e2])\n",
    "#ticks = np.concatenate([np.arange(a,10*a,a) for a in (1e-2,1e-1,1,10)])\n",
    "#ax.set_xlim(-2,2)\n",
    "#ax.set_ylim(-2,2)\n",
    "#ax.set_xticks(ticks)\n",
    "#ax.yticks(ticks)\n",
    "ax.get_xaxis().set_minor_locator(matplotlib.ticker.LogLocator(subs='all', numticks=5))\n",
    "ax.get_xaxis().set_minor_formatter(matplotlib.ticker.NullFormatter())\n",
    "ax.get_xaxis().set_major_locator(matplotlib.ticker.LogLocator(numticks=5))\n",
    "ax.get_yaxis().set_minor_locator(matplotlib.ticker.LogLocator(subs='all'))\n",
    "ax.get_yaxis().set_minor_formatter(matplotlib.ticker.NullFormatter())\n",
    "ax.get_yaxis().set_major_locator(matplotlib.ticker.LogLocator())\n",
    "#ax.get_xaxis().set_label(\"X\")\n",
    "ax.legend((\"Inhibitory\", \"Excitatory\"), loc=2, frameon=True)\n",
    "ax.grid(b=True, which='minor', color='lightgray', linewidth=0.3)\n",
    "ax.set_xlabel(\"$\\Sigma$ excitatory\") #incomming\n",
    "ax.set_ylabel(\"$\\Sigma$ inhibitory\")\n",
    "#plt.tight_layout()\n",
    "#plt.savefig(\"fig5_parts/weight_ei_balance.svg\", dpi=300)\n",
    "#plt.show()"
   ]
  },
  {
   "cell_type": "code",
   "execution_count": 15,
   "metadata": {},
   "outputs": [],
   "source": [
    "singularValues = np.linalg.svd(ar['weights'], compute_uv=False)"
   ]
  },
  {
   "cell_type": "code",
   "execution_count": 16,
   "metadata": {},
   "outputs": [
    {
     "data": {
      "image/png": "[encoded data removed]",
      "text/plain": [
       "<Figure size 129.6x14.4 with 1 Axes>"
      ]
     },
     "metadata": {},
     "output_type": "display_data"
    }
   ],
   "source": [
    "palette = seaborn.color_palette(n_colors=6) + seaborn.color_palette(\"Dark2_r\", n_colors=8, desat=0.6)\n",
    "plt.figure(figsize=(1.8,.2))\n",
    "percent = singularValues/np.sum(singularValues)*100\n",
    "for i in range(len(percent)):\n",
    "    plt.barh(0.5,percent[i],1,np.sum(percent[:i]), color=palette[i%len(palette)]) # edgecolor=(.15,.15,.15)\n",
    "#plt.xlim(0,1)\n",
    "#plt.ylim(0,100)\n",
    "plt.yticks([])\n",
    "plt.xticks(range(0,101,50), [\"%d%%\"%i for i in range(0,101,50)])\n",
    "plt.xlabel(\"Singular value\")\n",
    "seaborn.despine(bottom=True, left=True)\n",
    "#plt.tight_layout()\n",
    "#plt.savefig(\"fig5_parts/singular.svg\", dpi=300)\n",
    "#plt.xlabel()"
   ]
  },
  {
   "cell_type": "code",
   "execution_count": 17,
   "metadata": {},
   "outputs": [
    {
     "data": {
      "text/plain": [
       "4.526329078001644"
      ]
     },
     "execution_count": 17,
     "metadata": {},
     "output_type": "execute_result"
    }
   ],
   "source": [
    "scipy.stats.kurtosis(logWeights, fisher=False)"
   ]
  },
  {
   "cell_type": "code",
   "execution_count": 19,
   "metadata": {},
   "outputs": [
    {
     "name": "stderr",
     "output_type": "stream",
     "text": [
      "/usr/lib/python3/dist-packages/ipykernel_launcher.py:4: RuntimeWarning: invalid value encountered in multiply\n",
      "  after removing the cwd from sys.path.\n",
      "/home/emil/.local/lib/python3.6/site-packages/matplotlib/cbook/__init__.py:424: MatplotlibDeprecationWarning: \n",
      "Passing one of 'on', 'true', 'off', 'false' as a boolean is deprecated; use an actual boolean (True/False) instead.\n",
      "  warn_deprecated(\"2.2\", \"Passing one of 'on', 'true', 'off', 'false' as a \"\n"
     ]
    },
    {
     "data": {
      "image/png": "[encoded data removed]",
      "text/plain": [
       "<Figure size 288x288 with 2 Axes>"
      ]
     },
     "metadata": {},
     "output_type": "display_data"
    }
   ],
   "source": [
    "cmap = seaborn.diverging_palette(220, 10, as_cmap=True)\n",
    "norm=matplotlib.colors.SymLogNorm(5e-6,vmin=-1,vmax=1)\n",
    "\n",
    "fullImage = np.empty((150,150))*np.nan\n",
    "fullImage[5:105, 5:105] = ar['weights'][:100,:100] #E-E\n",
    "fullImage[5:105, 120:145] = ar['weights'][:100,-25:] #E-I\n",
    "fullImage[120:145, 5:105] = ar['weights'][-25:,:100] #I-E\n",
    "fullImage[120:145, 120:145] = ar['weights'][-25:,-25:] #I-I\n",
    "\n",
    "plt.figure(figsize=(4, 4))\n",
    "plt.imshow(fullImage, interpolation='nearest', cmap=cmap, norm=norm, aspect='equal')\n",
    "plt.xticks(list(range(5,120,20))+[145], list(range(0,120,20))+[N-1])\n",
    "plt.yticks(list(range(5,120,20))+[120,145], list(range(0,120,20))+[N-25, N-1])\n",
    "plt.xlabel(\"Presynaptic neuron id\")\n",
    "plt.ylabel(\"Postsynaptic neuron id\")\n",
    "plt.grid('off')\n",
    "cbar = plt.colorbar(label=\"Relative synaptic weight\", orientation='horizontal', shrink = .7)\n",
    "#cbar.set_ticks((-1,-0.001,0,0.001, 1))\n",
    "#cbar.set_ticklabels((\"$-10^0$\", \"$-10^{-3}$\", \"0\", \"$10^{-3}$\", \"$10^{0}$\"))\n",
    "cbar.set_ticks((-1,-0.01,-0.0001,0,0.0001,0.01, 1))\n",
    "cbar.set_ticklabels((\"$-10^0$\", \"$-10^{-2}$\", \"$-10^{-4}$\", \"$0$\", \"$10^{-4}$\", \"$10^{-2}$\", \"$10^{0}$\"))\n",
    "#plt.tight_layout()\n",
    "#plt.savefig('fig5_parts/matrix.svg', dpi=300)"
   ]
  },
  {
   "cell_type": "markdown",
   "metadata": {},
   "source": [
    "# Previous versions (Python2)\n",
    "\n",
    "Can be safely ignored"
   ]
  },
  {
   "cell_type": "markdown",
   "metadata": {},
   "source": [
    "### Connection probabilities"
   ]
  },
  {
   "cell_type": "code",
   "execution_count": null,
   "metadata": {
    "collapsed": true
   },
   "outputs": [],
   "source": [
    "print \"%.2f%%\" % (100*np.count_nonzero(ar['weights'][:4000,:4000])/4000.0/4000.0) #E -> E\n",
    "print \"%.2f%%\" % (100*np.count_nonzero(ar['weights'][4000:,:4000])/4000.0/1000.0) #E -> I\n",
    "print \"%.2f%%\" % (100*np.count_nonzero(ar['weights'][:4000,4000:])/1000.0/4000.0) #I -> E\n",
    "print \"%.2f%%\" % (100*np.count_nonzero(ar['weights'][4000:,4000:])/1000.0/1000.0) #I -> I"
   ]
  },
  {
   "cell_type": "code",
   "execution_count": null,
   "metadata": {
    "collapsed": true
   },
   "outputs": [],
   "source": [
    "e_sum, i_sum = np.sum(ar['weights'][:,:4000], axis=1), np.sum(ar['weights'][:,4000:], axis=1)"
   ]
  },
  {
   "cell_type": "code",
   "execution_count": null,
   "metadata": {
    "collapsed": true
   },
   "outputs": [],
   "source": [
    "%matplotlib inline\n",
    "#plt.figure(figsize=(3.25,3.25))\n",
    "fig, ax = plt.subplots(1, 1,figsize=(3.75,3.75))\n",
    "ax.loglog(e_sum[4000:4800], -i_sum[4000:4800], '.', color=seaborn.color_palette()[0], ms=6)\n",
    "ax.loglog(e_sum[:4000], -i_sum[:4000], '.', color=seaborn.color_palette()[2], ms=6)\n",
    "ax.loglog(e_sum[4800:], -i_sum[4800:], '.', color=seaborn.color_palette()[0], ms=6)\n",
    "#plt.scatter(e_sum[4000:], i_sum[4000:], s=10, c=seaborn.color_palette()[0])\n",
    "##plt.scatter(e_sum[:4000], i_sum[:4000], s=10, c=seaborn.color_palette()[2])\n",
    "ax.axis([1e-2,1e2,1e-2,1e2])\n",
    "ticks = np.concatenate([np.arange(a,10*a,a) for a in (1e-2,1e-1,1,10)])\n",
    "#plt.ylim(0,-5)\n",
    "#ax.xticks(ticks)\n",
    "#ax.yticks(ticks)\n",
    "ax.get_xaxis().set_minor_locator(matplotlib.ticker.LogLocator(subs='all'))\n",
    "ax.get_xaxis().set_minor_formatter(matplotlib.ticker.NullFormatter())\n",
    "ax.get_xaxis().set_major_locator(matplotlib.ticker.LogLocator())\n",
    "ax.get_yaxis().set_minor_locator(matplotlib.ticker.LogLocator(subs='all'))\n",
    "ax.get_yaxis().set_minor_formatter(matplotlib.ticker.NullFormatter())\n",
    "ax.get_yaxis().set_major_locator(matplotlib.ticker.LogLocator())\n",
    "#ax.get_xaxis().set_label(\"X\")\n",
    "ax.legend((\"Inhibitory neurons\", \"Excitatory neurons\"), loc=2)\n",
    "ax.grid(b=True, which='minor', color='w', linewidth=0.4)\n",
    "ax.set_xlabel(\"Sum of incomming excitatory weights\") #\n",
    "ax.set_ylabel(\"Sum of incomming inhibitory weights\")\n",
    "fig.tight_layout()\n",
    "plt.savefig(\"../figures/weight_ei_balance.tif\", dpi=300)\n",
    "plt.show()"
   ]
  },
  {
   "cell_type": "code",
   "execution_count": null,
   "metadata": {
    "collapsed": true,
    "scrolled": true
   },
   "outputs": [],
   "source": [
    "plt.figure(figsize=(2.5,4))\n",
    "plt.bar(np.arange(25), np.linalg.svd(ar['weights'], compute_uv=False)[:25])"
   ]
  },
  {
   "cell_type": "code",
   "execution_count": null,
   "metadata": {
    "collapsed": true
   },
   "outputs": [],
   "source": [
    "cov_matrix = ar['weights'].dot(ar['weights'].T)"
   ]
  },
  {
   "cell_type": "code",
   "execution_count": null,
   "metadata": {
    "collapsed": true
   },
   "outputs": [],
   "source": [
    "cor_matrix = cov_matrix / np.sqrt(np.outer(cov_matrix.diagonal(), cov_matrix.diagonal()))"
   ]
  },
  {
   "cell_type": "code",
   "execution_count": null,
   "metadata": {
    "collapsed": true
   },
   "outputs": [],
   "source": [
    "plt.hist(cor_matrix.flatten(), range=(0,1.0), bins=50, log=True)\n",
    "plt.xlabel(\"Correlation\")\n",
    "plt.ylabel(\"Number of pairs\")"
   ]
  },
  {
   "cell_type": "code",
   "execution_count": null,
   "metadata": {
    "collapsed": true
   },
   "outputs": [],
   "source": [
    "np.linalg.eig(ar['weights'])[0][:25]"
   ]
  },
  {
   "cell_type": "code",
   "execution_count": null,
   "metadata": {
    "collapsed": true
   },
   "outputs": [],
   "source": []
  },
  {
   "cell_type": "code",
   "execution_count": null,
   "metadata": {
    "collapsed": true
   },
   "outputs": [],
   "source": []
  },
  {
   "cell_type": "code",
   "execution_count": null,
   "metadata": {
    "collapsed": true
   },
   "outputs": [],
   "source": [
    "seaborn.palplot(seaborn.color_palette())"
   ]
  },
  {
   "cell_type": "code",
   "execution_count": null,
   "metadata": {
    "collapsed": true
   },
   "outputs": [],
   "source": [
    "dat=np.random.choice((0,1), p=(0.8,0.2), replace=True, size=(2000,2))\n",
    "np.corrcoef(dat, rowvar=0)"
   ]
  },
  {
   "cell_type": "code",
   "execution_count": null,
   "metadata": {
    "collapsed": true
   },
   "outputs": [],
   "source": [
    "N = ar['spikes'].shape[1]\n",
    "spike_bin_time = 40 #ms\n",
    "spike_vectors = ar['spikes'].reshape(-1,40,N).sum(axis=1)/1000"
   ]
  },
  {
   "cell_type": "code",
   "execution_count": null,
   "metadata": {
    "collapsed": true,
    "scrolled": false
   },
   "outputs": [],
   "source": [
    "pca = sklearn.decomposition.PCA().fit(spike_vectors)\n",
    "plt.figure(figsize=(7.5, 5))\n",
    "plt.subplot2grid((2,3),(1,0),colspan=1)\n",
    "plt.bar(np.arange(20)+0.5, pca.explained_variance_ratio_[:20])\n",
    "plt.yticks(np.arange(0,0.3,0.05), [\"%d\\%%\"%i for i in range(0,30,5)])\n",
    "plt.xticks(np.arange(0,20,3)+1, np.arange(0,20,3)+1)\n",
    "plt.xlim(0,21)\n",
    "plt.xlabel(\"Dimension\")\n",
    "plt.ylabel(\"Fraction of total variance\")\n",
    "plt.subplot2grid((2,3),(0,0),colspan=3)\n",
    "components = pca.transform(spike_vectors)[:,:4]\n",
    "colors = np.array(seaborn.color_palette())[(1,3,4,5), :]\n",
    "for i in range(4):\n",
    "    plt.plot(np.linspace(0,10*1000,250), components[:,i], '-*', c=colors[i])\n",
    "plt.yticks([0])\n",
    "plt.xlim(0,2*1000)\n",
    "plt.xlabel(\"Time [ms]\")\n",
    "plt.ylabel(\"Projection to PC\")\n",
    "plt.legend([\"First\", \"Second\", \"Third\", \"Fourth\"], ncol=4, loc=2)\n",
    "plt.ylim(-80,120)\n",
    "for i in range(2):\n",
    "    plt.subplot2grid((2,3),(1,i+1))\n",
    "    plt.plot(components[:,0+2*i], components[:,1+2*i])\n",
    "    plt.axis('equal')\n",
    "    plt.xlim(-100,100)\n",
    "    plt.ylim(-100,100)\n",
    "    plt.xticks([0])\n",
    "    plt.yticks([0])\n",
    "    plt.xlabel([\"First component\", \"Third component\"][i])\n",
    "    plt.ylabel([\"Second component\", \"Fourth component\"][i])\n",
    "plt.tight_layout()\n",
    "plt.savefig('../figures/principal_component_analysis.tiff', dpi=300, transparent=False, frameon=False)"
   ]
  },
  {
   "cell_type": "code",
   "execution_count": null,
   "metadata": {
    "collapsed": true
   },
   "outputs": [],
   "source": [
    "np.sum(pca.explained_variance_ratio_[:4])"
   ]
  },
  {
   "cell_type": "code",
   "execution_count": null,
   "metadata": {
    "collapsed": true
   },
   "outputs": [],
   "source": [
    "plt.figure(figsize=(10,10))\n",
    "for i in range(4):\n",
    "    for j in range(4):\n",
    "        plt.subplot2grid((4,4),(i,j))\n",
    "        plt.plot(components[:,i], components[:,j])\n",
    "        plt.axis('equal')\n",
    "        plt.xlim(-120,120)\n",
    "        plt.ylim(-120,120)\n",
    "        plt.xticks([0])\n",
    "        plt.yticks([0])\n",
    "        plt.xlabel([\"First\", \"Second\", \"Third\", \"Fourth\"][i] + \" component\")\n",
    "        plt.ylabel([\"First\", \"Second\", \"Third\", \"Fourth\"][j] + \" component\")\n",
    "plt.tight_layout()"
   ]
  },
  {
   "cell_type": "code",
   "execution_count": null,
   "metadata": {
    "collapsed": true
   },
   "outputs": [],
   "source": [
    "fa = sklearn.decomposition.FactorAnalysis(iterated_power=8, n_components=30)\n",
    "fa.fit(spike_vectors)"
   ]
  },
  {
   "cell_type": "code",
   "execution_count": null,
   "metadata": {
    "collapsed": true
   },
   "outputs": [],
   "source": [
    "cov = fa.components_.dot(fa.components_.T)\n",
    "eigs = np.linalg.eigvalsh(cov)[::-1]\n",
    "plt.bar(np.arange(30)+0.5, eigs[:30]/np.sum(eigs))"
   ]
  }
 ],
 "metadata": {
  "kernelspec": {
   "display_name": "Python 3",
   "language": "python",
   "name": "python3"
  },
  "language_info": {
   "codemirror_mode": {
    "name": "ipython",
    "version": 3
   },
   "file_extension": ".py",
   "mimetype": "text/x-python",
   "name": "python",
   "nbconvert_exporter": "python",
   "pygments_lexer": "ipython3",
   "version": "3.6.7"
  }
 },
 "nbformat": 4,
 "nbformat_minor": 1
}
